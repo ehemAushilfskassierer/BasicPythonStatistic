{
 "cells": [
  {
   "cell_type": "markdown",
   "id": "e3cce910",
   "metadata": {},
   "source": [
    "<div style=\"\n",
    "    background-color:rgb(44, 158, 224); \n",
    "    color: #333; \n",
    "    padding: 15px; \n",
    "    border-radius: 10px; \n",
    "    text-align: center; \n",
    "    font-size: 24px; \n",
    "    font-weight: bold;\n",
    "    box-shadow: 3px 3px 10px rgba(0, 0, 0, 0.1);\">\n",
    "    🧠 Basic Python and Statistik: Crack math and programming problems! 🔢\n",
    "</div>"
   ]
  },
  {
   "cell_type": "markdown",
   "id": "54945164",
   "metadata": {},
   "source": [
    "## Python Basics 3\n",
    "\n",
    "### Classes and objects\n",
    "Python is a OOP (Object oriented programming) language.\n",
    "\n",
    "[w3schools](https://www.w3schools.com/python/python_classes.asp)  \n",
    "Define a class (e.x.: `class Car`) and create a object with all properties from that class."
   ]
  },
  {
   "cell_type": "code",
   "execution_count": 1,
   "id": "5c8780fa",
   "metadata": {},
   "outputs": [],
   "source": [
    "class Car:\n",
    "    name = \"myCar\""
   ]
  },
  {
   "cell_type": "code",
   "execution_count": 3,
   "id": "3cd22e65",
   "metadata": {},
   "outputs": [
    {
     "data": {
      "text/plain": [
       "__main__.Car"
      ]
     },
     "execution_count": 3,
     "metadata": {},
     "output_type": "execute_result"
    }
   ],
   "source": [
    "objCar = Car()\n",
    "\n",
    "type(objCar)"
   ]
  },
  {
   "cell_type": "code",
   "execution_count": 4,
   "id": "c38fc89e",
   "metadata": {},
   "outputs": [
    {
     "data": {
      "text/plain": [
       "'myCar'"
      ]
     },
     "execution_count": 4,
     "metadata": {},
     "output_type": "execute_result"
    }
   ],
   "source": [
    "# get the property from Car\n",
    "objCar.name"
   ]
  },
  {
   "cell_type": "markdown",
   "id": "de220d51",
   "metadata": {},
   "source": [
    "The class above is a very simple example.\n",
    "\n",
    "Now let's see at the `__init__()` function.\n",
    "\n",
    "All function use a `__init__()` function and are executed when the class is being initiated."
   ]
  },
  {
   "cell_type": "code",
   "execution_count": 9,
   "id": "b4875ec5",
   "metadata": {},
   "outputs": [],
   "source": [
    "class Programmer:\n",
    "    def __init__(self, level, yearsOfExperience):\n",
    "        self.level = level\n",
    "        self.yearsOfExperience = yearsOfExperience"
   ]
  },
  {
   "cell_type": "code",
   "execution_count": 10,
   "id": "eefbae26",
   "metadata": {},
   "outputs": [
    {
     "data": {
      "text/plain": [
       "__main__.Programmer"
      ]
     },
     "execution_count": 10,
     "metadata": {},
     "output_type": "execute_result"
    }
   ],
   "source": [
    "jrProgrammer = Programmer(\"junior\", 0.5)\n",
    "\n",
    "type(jrProgrammer)"
   ]
  },
  {
   "cell_type": "code",
   "execution_count": 11,
   "id": "8b657280",
   "metadata": {},
   "outputs": [
    {
     "name": "stdout",
     "output_type": "stream",
     "text": [
      "junior\n",
      "0.5\n"
     ]
    }
   ],
   "source": [
    "print(jrProgrammer.level)\n",
    "print(jrProgrammer.yearsOfExperience)"
   ]
  },
  {
   "cell_type": "markdown",
   "id": "69a434bd",
   "metadata": {},
   "source": [
    "Adding the `__str__()` function."
   ]
  },
  {
   "cell_type": "code",
   "execution_count": 20,
   "id": "1a67f824",
   "metadata": {},
   "outputs": [],
   "source": [
    "class Math:\n",
    "    def __init__(self, grade, topic):\n",
    "        self.grade = grade\n",
    "        self.topic = topic\n",
    "\n",
    "\n",
    "    def __str__(self):\n",
    "        return f\"{self.topic}({self.grade} Grade)\""
   ]
  },
  {
   "cell_type": "code",
   "execution_count": 21,
   "id": "77686428",
   "metadata": {},
   "outputs": [
    {
     "data": {
      "text/plain": [
       "<__main__.Math at 0x270679c30e0>"
      ]
     },
     "execution_count": 21,
     "metadata": {},
     "output_type": "execute_result"
    }
   ],
   "source": [
    "statistic5 = Math(\"fifth\", \"Statistic\")\n",
    "\n",
    "statistic5"
   ]
  },
  {
   "cell_type": "code",
   "execution_count": 22,
   "id": "c3d8cec3",
   "metadata": {},
   "outputs": [
    {
     "name": "stdout",
     "output_type": "stream",
     "text": [
      "Statistic(fifth Grade)\n"
     ]
    }
   ],
   "source": [
    "print(statistic5)"
   ]
  },
  {
   "cell_type": "markdown",
   "id": "f49ad118",
   "metadata": {},
   "source": [
    "<div style=\"\n",
    "    background-color:rgb(44, 158, 224); \n",
    "    color: #333; \n",
    "    padding: 15px; \n",
    "    border-radius: 10px; \n",
    "    text-align: center; \n",
    "    font-size: 18px; \n",
    "    font-weight: bold;\n",
    "    box-shadow: 3px 3px 10px rgba(0, 0, 0, 0.1);\">\n",
    "    🔗  Connect with me:  \n",
    "    <br><br>\n",
    "    📌 <a href=\"https://www.linkedin.com/in/jan-eric-keller\" target=\"_blank\" style=\"color:rgb(127, 181, 0); text-decoration: none; font-weight: bold;\">LinkedIn</a>  \n",
    "    <br>\n",
    "    📊 <a href=\"https://www.kaggle.com/whatthedatahastotell\" target=\"_blank\" style=\"color:rgb(88, 255, 32); text-decoration: none; font-weight: bold;\">Kaggle</a>  \n",
    "    <br>\n",
    "    🎥 <a href=\"https://www.youtube.com/@ehemAushilfskassierer\" target=\"_blank\" style=\"color: #ff0000; text-decoration: none; font-weight: bold;\">YouTube</a>  \n",
    "    <br>\n",
    "    📸 <a href=\"https://www.instagram.com/ehem.aushilfskassierer/\" target=\"_blank\" style=\"color: #e1306c; text-decoration: none; font-weight: bold;\">Instagram</a>  \n",
    "    <br>\n",
    "    🎵 <a href=\"https://www.tiktok.com/@ehem.aushilfskassierer\" target=\"_blank\" style=\"color: #000000; text-decoration: none; font-weight: bold;\">TikTok</a>  \n",
    "    <br>\n",
    "    💻 <a href=\"https://github.com/ehemAushilfskassierer\" target=\"_blank\" style=\"color: #333; text-decoration: none; font-weight: bold;\">GitHub</a>  \n",
    "    <br><br>\n",
    "    🚀 If you found this helpful, leave an <span style=\"color: #ff5b33;\">⭐ upvote</span>!  \n",
    "    <br>\n",
    "    💬 Let me know in the comments what you liked or what could be improved!  \n",
    "</div>\n"
   ]
  },
  {
   "cell_type": "markdown",
   "id": "d2acf8b4",
   "metadata": {},
   "source": []
  }
 ],
 "metadata": {
  "kernelspec": {
   "display_name": "Python 3",
   "language": "python",
   "name": "python3"
  },
  "language_info": {
   "codemirror_mode": {
    "name": "ipython",
    "version": 3
   },
   "file_extension": ".py",
   "mimetype": "text/x-python",
   "name": "python",
   "nbconvert_exporter": "python",
   "pygments_lexer": "ipython3",
   "version": "3.13.2"
  }
 },
 "nbformat": 4,
 "nbformat_minor": 5
}
