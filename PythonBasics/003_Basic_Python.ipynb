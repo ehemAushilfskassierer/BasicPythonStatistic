{
 "cells": [
  {
   "cell_type": "markdown",
   "id": "e3cce910",
   "metadata": {},
   "source": [
    "<div style=\"\n",
    "    background-color:rgb(44, 158, 224); \n",
    "    color: #333; \n",
    "    padding: 15px; \n",
    "    border-radius: 10px; \n",
    "    text-align: center; \n",
    "    font-size: 24px; \n",
    "    font-weight: bold;\n",
    "    box-shadow: 3px 3px 10px rgba(0, 0, 0, 0.1);\">\n",
    "    🧠 Basic Python and Statistic 🔢\n",
    "</div>"
   ]
  },
  {
   "cell_type": "markdown",
   "id": "54945164",
   "metadata": {},
   "source": [
    "## Python Basics 3\n",
    "\n",
    "### Classes and objects\n",
    "Python is a OOP (Object oriented programming) language.\n",
    "\n",
    "[w3schools](https://www.w3schools.com/python/python_classes.asp)  \n",
    "Define a class (e.x.: `class Car`) and create a object with all properties from that class."
   ]
  },
  {
   "cell_type": "code",
   "execution_count": null,
   "id": "5c8780fa",
   "metadata": {},
   "outputs": [],
   "source": [
    "class Car:\n",
    "    name = \"myCar\""
   ]
  },
  {
   "cell_type": "code",
   "execution_count": null,
   "id": "3cd22e65",
   "metadata": {},
   "outputs": [],
   "source": [
    "objCar = Car()\n",
    "\n",
    "type(objCar)"
   ]
  },
  {
   "cell_type": "code",
   "execution_count": null,
   "id": "c38fc89e",
   "metadata": {},
   "outputs": [],
   "source": [
    "# get the property from Car\n",
    "objCar.name"
   ]
  },
  {
   "cell_type": "markdown",
   "id": "de220d51",
   "metadata": {},
   "source": [
    "The class above is a very simple example.\n",
    "\n",
    "Now let's see at the `__init__()` function.\n",
    "\n",
    "All function use a `__init__()` function and are executed when the class is being initiated."
   ]
  },
  {
   "cell_type": "code",
   "execution_count": null,
   "id": "b4875ec5",
   "metadata": {},
   "outputs": [],
   "source": [
    "class Programmer:\n",
    "    def __init__(self, level, yearsOfExperience):\n",
    "        self.level = level\n",
    "        self.yearsOfExperience = yearsOfExperience"
   ]
  },
  {
   "cell_type": "code",
   "execution_count": null,
   "id": "eefbae26",
   "metadata": {},
   "outputs": [],
   "source": [
    "jrProgrammer = Programmer(\"junior\", 0.5)\n",
    "\n",
    "type(jrProgrammer)"
   ]
  },
  {
   "cell_type": "code",
   "execution_count": null,
   "id": "8b657280",
   "metadata": {},
   "outputs": [],
   "source": [
    "print(jrProgrammer.level)\n",
    "print(jrProgrammer.yearsOfExperience)"
   ]
  },
  {
   "cell_type": "markdown",
   "id": "4fff2cc5",
   "metadata": {},
   "source": [
    "Example without the constructor (not dynamic)."
   ]
  },
  {
   "cell_type": "code",
   "execution_count": null,
   "id": "578ff86a",
   "metadata": {},
   "outputs": [],
   "source": [
    "class SeniorProgrammer:\n",
    "    level = \"Senior\"\n",
    "    yearsOfExperience = 6"
   ]
  },
  {
   "cell_type": "code",
   "execution_count": null,
   "id": "d163d7a8",
   "metadata": {},
   "outputs": [],
   "source": [
    "senProgrammer = SeniorProgrammer()\n",
    "\n",
    "print(senProgrammer.level)\n",
    "print(senProgrammer.yearsOfExperience)"
   ]
  },
  {
   "cell_type": "markdown",
   "id": "69a434bd",
   "metadata": {},
   "source": [
    "Adding the `__str__()` function."
   ]
  },
  {
   "cell_type": "code",
   "execution_count": null,
   "id": "1a67f824",
   "metadata": {},
   "outputs": [],
   "source": [
    "class Math:\n",
    "    def __init__(self, grade, topic):\n",
    "        self.grade = grade\n",
    "        self.topic = topic\n",
    "\n",
    "\n",
    "    def __str__(self):\n",
    "        return f\"{self.topic}({self.grade} Grade)\""
   ]
  },
  {
   "cell_type": "code",
   "execution_count": null,
   "id": "77686428",
   "metadata": {},
   "outputs": [],
   "source": [
    "statistic5 = Math(\"fifth\", \"Statistic\")\n",
    "\n",
    "statistic5"
   ]
  },
  {
   "cell_type": "code",
   "execution_count": null,
   "id": "c3d8cec3",
   "metadata": {},
   "outputs": [],
   "source": [
    "print(statistic5)"
   ]
  },
  {
   "cell_type": "markdown",
   "id": "2564f307",
   "metadata": {},
   "source": [
    "`__repr__()` - String Representation  \n",
    "\n",
    "Used for developer/debugging purposes. It should return a string that can (ideally) be used to recreate the object."
   ]
  },
  {
   "cell_type": "code",
   "execution_count": null,
   "id": "1c24f2b4",
   "metadata": {},
   "outputs": [],
   "source": [
    "class Book:\n",
    "    def __init__(self, title, author):\n",
    "        self.title = title\n",
    "        self.author = author\n",
    "\n",
    "    def __str__(self):\n",
    "        return f\"{self.title} written by {self.author}\"\n",
    "\n",
    "    def __repr__(self):\n",
    "        return f\"Book(title={self.title!r}, author={self.author!r})\""
   ]
  },
  {
   "cell_type": "code",
   "execution_count": null,
   "id": "6e1a9b2f",
   "metadata": {},
   "outputs": [],
   "source": [
    "b = Book(\"1984\", \"George Orwell\")\n",
    "\n",
    "b"
   ]
  },
  {
   "cell_type": "code",
   "execution_count": null,
   "id": "e2a7a3ed",
   "metadata": {},
   "outputs": [],
   "source": [
    "print(b)"
   ]
  },
  {
   "cell_type": "markdown",
   "id": "c7605aba",
   "metadata": {},
   "source": [
    "`__eq__()` - Equality Comparison\n",
    "\n",
    "Allows two objects to be compared using == based on custom logic, typically internal attributes."
   ]
  },
  {
   "cell_type": "code",
   "execution_count": null,
   "id": "913cafd0",
   "metadata": {},
   "outputs": [],
   "source": [
    "class Computer:\n",
    "    def __init__(self, brand, operatingSystem):\n",
    "        self.brand = brand\n",
    "        self.operatingSystem = operatingSystem\n",
    "\n",
    "    def __eq__(self, other):\n",
    "        return self.brand == other.brand and \\\n",
    "        self.operatingSystem == other.operatingSystem"
   ]
  },
  {
   "cell_type": "code",
   "execution_count": null,
   "id": "a6346ecf",
   "metadata": {},
   "outputs": [],
   "source": [
    "lenovo_win = Computer(\"Lenovo\", \"Windows\")\n",
    "lenovo_linux = Computer(\"Lenovo\", \"Linux\")\n",
    "lenovo_win2 = Computer(\"Lenovo\", \"Windows\")"
   ]
  },
  {
   "cell_type": "code",
   "execution_count": null,
   "id": "1ad2397c",
   "metadata": {},
   "outputs": [],
   "source": [
    "print(lenovo_linux.brand == lenovo_win.brand)"
   ]
  },
  {
   "cell_type": "code",
   "execution_count": null,
   "id": "ec3643bd",
   "metadata": {},
   "outputs": [],
   "source": [
    "print(lenovo_win == lenovo_linux)\n",
    "print(lenovo_win == lenovo_win2)"
   ]
  },
  {
   "cell_type": "markdown",
   "id": "76b5b727",
   "metadata": {},
   "source": [
    "`@classmethod` — Alternative Constructor\n",
    "\n",
    "Creates an instance from alternative input (e.g., a string or dictionary). The first argument is the class itself (cls), not the instance."
   ]
  },
  {
   "cell_type": "code",
   "execution_count": null,
   "id": "44f1edd8",
   "metadata": {},
   "outputs": [],
   "source": [
    "class Movie:\n",
    "    def __init__(self, title, year):\n",
    "        self.title = title\n",
    "        self.year = year\n",
    "\n",
    "    @classmethod\n",
    "    def from_string(cls, text):\n",
    "        title, year = text.split(\",\")\n",
    "        return cls(title.strip(), int(year.strip()))"
   ]
  },
  {
   "cell_type": "code",
   "execution_count": null,
   "id": "08baed99",
   "metadata": {},
   "outputs": [],
   "source": [
    "m1 = Movie(\"Inception\", 2010)\n",
    "\n",
    "m2 = Movie.from_string(\"Inception, 2010\")"
   ]
  },
  {
   "cell_type": "markdown",
   "id": "35f1ccf9",
   "metadata": {},
   "source": [
    "`@staticmethod` for Validation\n",
    "\n",
    "- No access to the class (cls) or instance (self) is needed.\n",
    "- It's just a utility function that logically belongs to the class.\n",
    "- Keeps validation logic clean and reusable."
   ]
  },
  {
   "cell_type": "code",
   "execution_count": null,
   "id": "bc6305cd",
   "metadata": {},
   "outputs": [],
   "source": [
    "class User:\n",
    "    def __init__(self, name, email):\n",
    "        if not self.is_valid_email(email):\n",
    "            raise ValueError(f\"Invalid email: {email}\")\n",
    "        self.name = name\n",
    "        self.email = email\n",
    "\n",
    "    @staticmethod\n",
    "    def is_valid_email(email):\n",
    "        return \"@\" in email and \".\" in email"
   ]
  },
  {
   "cell_type": "code",
   "execution_count": null,
   "id": "62414be5",
   "metadata": {},
   "outputs": [],
   "source": [
    "user1 = User(\"Alice\", \"alice@example.com\")\n",
    "print(user1.name)\n",
    "print(user1.email)"
   ]
  },
  {
   "cell_type": "code",
   "execution_count": null,
   "id": "72573866",
   "metadata": {},
   "outputs": [],
   "source": [
    "user2 = User(\"Bob\", \"bob_at_example\")"
   ]
  },
  {
   "cell_type": "markdown",
   "id": "cc35b84e",
   "metadata": {},
   "source": [
    "Create a class that shows how to **change** attributes after object creation - including before/after output"
   ]
  },
  {
   "cell_type": "code",
   "execution_count": null,
   "id": "f2df0d77",
   "metadata": {},
   "outputs": [],
   "source": [
    "class Product:\n",
    "    def __init__(self, name, price, stock):\n",
    "        self.name = name\n",
    "        self.price = price\n",
    "        self.stock = stock\n",
    "\n",
    "    def update_price(self, new_price):\n",
    "        self.price = new_price\n",
    "\n",
    "    def restock(self, amount):\n",
    "        self.stock += amount\n",
    "\n",
    "    def __str__(self):\n",
    "        return f\"{self.name}: ${self.price:.2f} ({self.stock} \"\\\n",
    "              \"in stock)\""
   ]
  },
  {
   "cell_type": "code",
   "execution_count": null,
   "id": "b1f7dbf6",
   "metadata": {},
   "outputs": [],
   "source": [
    "p = Product(\"Keyboard\", 49.99, 10)\n",
    "print(p)"
   ]
  },
  {
   "cell_type": "code",
   "execution_count": null,
   "id": "2ecd39a1",
   "metadata": {},
   "outputs": [],
   "source": [
    "p.update_price(44.99)\n",
    "print(p)"
   ]
  },
  {
   "cell_type": "code",
   "execution_count": null,
   "id": "8834f552",
   "metadata": {},
   "outputs": [],
   "source": [
    "p.restock(15)\n",
    "print(p) "
   ]
  },
  {
   "cell_type": "markdown",
   "id": "bbdf2820",
   "metadata": {},
   "source": [
    "<div style=\"text-align: center;\">\n",
    "  <a href=\"https://en.wikipedia.org/wiki/Guido_van_Rossum\" target=\"_blank\">\n",
    "    <img src=\"../images/Guido_van_Rossum_OSCON_2006.jpg\" alt=\"Guido van Rossum\" style=\"max-width: 200px;\">\n",
    "  </a>\n",
    "</div>"
   ]
  },
  {
   "cell_type": "markdown",
   "id": "f49ad118",
   "metadata": {},
   "source": [
    "<div style=\"\n",
    "    background-color:rgb(44, 158, 224); \n",
    "    color: #333; \n",
    "    padding: 15px; \n",
    "    border-radius: 10px; \n",
    "    text-align: center; \n",
    "    font-size: 18px; \n",
    "    font-weight: bold;\n",
    "    box-shadow: 3px 3px 10px rgba(0, 0, 0, 0.1);\">\n",
    "    🔗  Connect with me:  \n",
    "    <br><br>\n",
    "    📌 <a href=\"https://www.linkedin.com/in/jan-eric-keller\" target=\"_blank\" style=\"color:rgb(127, 181, 0); text-decoration: none; font-weight: bold;\">LinkedIn</a>  \n",
    "    <br>\n",
    "    📊 <a href=\"https://www.kaggle.com/whatthedatahastotell\" target=\"_blank\" style=\"color:rgb(88, 255, 32); text-decoration: none; font-weight: bold;\">Kaggle</a>  \n",
    "    <br>\n",
    "    🎥 <a href=\"https://www.youtube.com/@ehemAushilfskassierer\" target=\"_blank\" style=\"color: #ff0000; text-decoration: none; font-weight: bold;\">YouTube</a>  \n",
    "    <br>\n",
    "    📸 <a href=\"https://www.instagram.com/ehem.aushilfskassierer/\" target=\"_blank\" style=\"color: #e1306c; text-decoration: none; font-weight: bold;\">Instagram</a>  \n",
    "    <br>\n",
    "    🎵 <a href=\"https://www.tiktok.com/@ehem.aushilfskassierer\" target=\"_blank\" style=\"color: #000000; text-decoration: none; font-weight: bold;\">TikTok</a>  \n",
    "    <br>\n",
    "    💻 <a href=\"https://github.com/ehemAushilfskassierer\" target=\"_blank\" style=\"color: #333; text-decoration: none; font-weight: bold;\">GitHub</a>  \n",
    "    <br><br>\n",
    "    🚀 If you found this helpful, leave an <span style=\"color: #ff5b33;\">⭐ upvote</span>!  \n",
    "    <br>\n",
    "    💬 Let me know in the comments what you liked or what could be improved!  \n",
    "</div>\n"
   ]
  },
  {
   "cell_type": "markdown",
   "id": "d2acf8b4",
   "metadata": {},
   "source": []
  }
 ],
 "metadata": {
  "kernelspec": {
   "display_name": "Python 3",
   "language": "python",
   "name": "python3"
  },
  "language_info": {
   "codemirror_mode": {
    "name": "ipython",
    "version": 3
   },
   "file_extension": ".py",
   "mimetype": "text/x-python",
   "name": "python",
   "nbconvert_exporter": "python",
   "pygments_lexer": "ipython3",
   "version": "3.13.2"
  }
 },
 "nbformat": 4,
 "nbformat_minor": 5
}
