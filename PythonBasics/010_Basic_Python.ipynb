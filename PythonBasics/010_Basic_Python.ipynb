{
 "cells": [
  {
   "cell_type": "markdown",
   "id": "e3cce910",
   "metadata": {},
   "source": [
    "<div style=\"\n",
    "    background-color:rgb(44, 158, 224); \n",
    "    color: #333; \n",
    "    padding: 15px; \n",
    "    border-radius: 10px; \n",
    "    text-align: center; \n",
    "    font-size: 24px; \n",
    "    font-weight: bold;\n",
    "    box-shadow: 3px 3px 10px rgba(0, 0, 0, 0.1);\">\n",
    "    🧠 Basic Python and Statistic 🔢\n",
    "</div>"
   ]
  },
  {
   "cell_type": "markdown",
   "id": "54945164",
   "metadata": {},
   "source": [
    "## Python Basics 10\n",
    "\n",
    "### Lambda\n",
    "\n",
    "Short version of a function.\n",
    "\n",
    "[w3schools](https://www.w3schools.com/python/python_lambda.asp)  "
   ]
  },
  {
   "cell_type": "markdown",
   "id": "fda4fa01",
   "metadata": {},
   "source": [
    "### Contents\n",
    "\n",
    "- [Syntax](#Syntax)\n",
    "- [map()](#map())\n",
    "- [filter()](#filter())\n",
    "- [sorted()](#sorted())\n",
    "- [reduce()](#reduce())\n",
    "- [Lambda that returns another lambda](#lambda-that-returns-another-lambda-closure)\n",
    "- [Lambda in dictionary switch-case](#lambda-in-dictionary-switch-case)\n",
    "- [Sort list of dicts by nested field](#Sort-list-of-dicts-by-nested-field)\n",
    "- [Lambda + conditional expressions](#lambda--conditional-expressions)"
   ]
  },
  {
   "cell_type": "markdown",
   "id": "6489b2f5",
   "metadata": {},
   "source": [
    "### Syntax\n",
    "\n",
    "```Python\n",
    "nameOfLambdaFunction = lambda argument : expression\n",
    "\n",
    "# Call lambdaFunction\n",
    "nameOfLambdaFunction(parameter)\n",
    "```"
   ]
  },
  {
   "cell_type": "code",
   "execution_count": null,
   "id": "1b910147",
   "metadata": {},
   "outputs": [],
   "source": [
    "myLambda = lambda x : \"hello \" + x"
   ]
  },
  {
   "cell_type": "code",
   "execution_count": null,
   "id": "142dd3a8",
   "metadata": {},
   "outputs": [],
   "source": [
    "myLambda(\"everyone\")"
   ]
  },
  {
   "cell_type": "code",
   "execution_count": null,
   "id": "e0a4877f",
   "metadata": {},
   "outputs": [],
   "source": [
    "myLambda2 = lambda x, y, z : x + y + z"
   ]
  },
  {
   "cell_type": "code",
   "execution_count": null,
   "id": "fd5b0131",
   "metadata": {},
   "outputs": [],
   "source": [
    "myLambda2(10, 12, 14)"
   ]
  },
  {
   "cell_type": "markdown",
   "id": "b1110ba2",
   "metadata": {},
   "source": [
    "### Use `lambda` with built-in functions"
   ]
  },
  {
   "cell_type": "markdown",
   "id": "1425e176",
   "metadata": {},
   "source": [
    "#### map()\n",
    "\n",
    "Applies a lambda to each item in an iterable.\n",
    "\n",
    "[w3schools map()](https://www.w3schools.com/python/ref_func_map.asp)"
   ]
  },
  {
   "cell_type": "code",
   "execution_count": null,
   "id": "9bd708ff",
   "metadata": {},
   "outputs": [],
   "source": [
    "def lenOfWord(word):\n",
    "    return len(word)\n",
    "\n",
    "x = list(map(lenOfWord, ('a', 'aa', 'aaa')))"
   ]
  },
  {
   "cell_type": "code",
   "execution_count": null,
   "id": "1e316158",
   "metadata": {},
   "outputs": [],
   "source": [
    "x"
   ]
  },
  {
   "cell_type": "code",
   "execution_count": null,
   "id": "5716be73",
   "metadata": {},
   "outputs": [],
   "source": [
    "nums = [1, 2, 3]\n",
    "\n",
    "squared = list(map(lambda x : x**2, nums))\n",
    "\n",
    "squared"
   ]
  },
  {
   "cell_type": "markdown",
   "id": "8811cd66",
   "metadata": {},
   "source": [
    "#### filter()\n",
    "\n",
    "Filters elements that return True.\n",
    "\n",
    "[w3schools filter()](https://www.w3schools.com/python/ref_func_filter.asp)"
   ]
  },
  {
   "cell_type": "code",
   "execution_count": null,
   "id": "2fbfddd1",
   "metadata": {},
   "outputs": [],
   "source": [
    "nums2 = []\n",
    "\n",
    "for i in range(1, 13):\n",
    "    nums2.append(i)\n",
    "\n",
    "nums2"
   ]
  },
  {
   "cell_type": "code",
   "execution_count": null,
   "id": "a7a5d285",
   "metadata": {},
   "outputs": [],
   "source": [
    "def tenAndMore(x):\n",
    "    if x >= 10:\n",
    "        return True\n",
    "    else:\n",
    "        return False"
   ]
  },
  {
   "cell_type": "code",
   "execution_count": null,
   "id": "e58ff783",
   "metadata": {},
   "outputs": [],
   "source": [
    "tenAndMoreList = list(filter(tenAndMore, nums2))"
   ]
  },
  {
   "cell_type": "code",
   "execution_count": null,
   "id": "2933c4a1",
   "metadata": {},
   "outputs": [],
   "source": [
    "tenAndMoreList"
   ]
  },
  {
   "cell_type": "code",
   "execution_count": null,
   "id": "3695be41",
   "metadata": {},
   "outputs": [],
   "source": [
    "even = list(filter(lambda x : x % 2 == 0, nums2))\n",
    "\n",
    "even"
   ]
  },
  {
   "cell_type": "markdown",
   "id": "e1992759",
   "metadata": {},
   "source": [
    "#### sorted()\n",
    "\n",
    "Sort custom objects using a lambda as the key.\n",
    "\n",
    "[w3school sorted()](https://www.w3schools.com/python/ref_func_sorted.asp)"
   ]
  },
  {
   "cell_type": "code",
   "execution_count": null,
   "id": "d22484c9",
   "metadata": {},
   "outputs": [],
   "source": [
    "a = (3, 4, 5, 1, 2)"
   ]
  },
  {
   "cell_type": "code",
   "execution_count": null,
   "id": "c7c5cb3a",
   "metadata": {},
   "outputs": [],
   "source": [
    "sorted(a)"
   ]
  },
  {
   "cell_type": "code",
   "execution_count": null,
   "id": "856b41d6",
   "metadata": {},
   "outputs": [],
   "source": [
    "sentence = \"Python is a programming language\"\\\n",
    "    \" that lets you work quickly and integrate\"\\\n",
    "         \" systems more effectively\""
   ]
  },
  {
   "cell_type": "code",
   "execution_count": null,
   "id": "7448de1f",
   "metadata": {},
   "outputs": [],
   "source": [
    "wordLst = []\n",
    "\n",
    "for word in sentence.split():\n",
    "    wordLst.append(word)\n",
    "    print(word)"
   ]
  },
  {
   "cell_type": "code",
   "execution_count": null,
   "id": "d4d12fcc",
   "metadata": {},
   "outputs": [],
   "source": [
    "sorted_words = sorted(wordLst, key=lambda x: len(x))\n",
    "sorted_words"
   ]
  },
  {
   "cell_type": "markdown",
   "id": "ba0e2a45",
   "metadata": {},
   "source": [
    "#### reduce()\n",
    "\n",
    "Reduce a list to only one value by iterating from the left to the right.\n",
    "\n",
    "[docs.python reduce()](https://docs.python.org/3/library/functools.html)"
   ]
  },
  {
   "cell_type": "code",
   "execution_count": null,
   "id": "a0e436da",
   "metadata": {},
   "outputs": [],
   "source": [
    "from functools import reduce"
   ]
  },
  {
   "cell_type": "code",
   "execution_count": null,
   "id": "ea8669c6",
   "metadata": {},
   "outputs": [],
   "source": [
    "nums3 = [1, 2, 3, 4, 5, 6]"
   ]
  },
  {
   "cell_type": "code",
   "execution_count": null,
   "id": "d91e745f",
   "metadata": {},
   "outputs": [],
   "source": [
    "def addToNumbers(x, y):\n",
    "    print(f\"{x = }\\t{y = }\")\n",
    "    return x + y"
   ]
  },
  {
   "cell_type": "code",
   "execution_count": null,
   "id": "4cd53355",
   "metadata": {},
   "outputs": [],
   "source": [
    "result = reduce(addToNumbers, nums3)\n",
    "result"
   ]
  },
  {
   "cell_type": "code",
   "execution_count": null,
   "id": "246244e1",
   "metadata": {},
   "outputs": [],
   "source": [
    "product = reduce(lambda x, y: x*y, [1, 2, 3, 4, 5])"
   ]
  },
  {
   "cell_type": "code",
   "execution_count": null,
   "id": "f5dfa255",
   "metadata": {},
   "outputs": [],
   "source": [
    "product"
   ]
  },
  {
   "cell_type": "markdown",
   "id": "cdfc0741",
   "metadata": {},
   "source": [
    "#### Lambda that returns another lambda (Closure)\n",
    "\n",
    "Create a lambda function within a lambda function.\n",
    "\n",
    "In this example, the first call uses x as the exponent for a new lambda function.\n",
    "\n",
    "The cubed function can be called with an argument as a base to multiply itself as many times as it was initialized in the first call."
   ]
  },
  {
   "cell_type": "code",
   "execution_count": null,
   "id": "8f844979",
   "metadata": {},
   "outputs": [],
   "source": [
    "power = lambda x : (lambda y : y ** x)\n",
    "\n",
    "cubed = power(3) # cubed = lambda y : y ** 3\n",
    "\n",
    "cubed(7) # 7 * 7 * 7"
   ]
  },
  {
   "cell_type": "code",
   "execution_count": null,
   "id": "ad439162",
   "metadata": {},
   "outputs": [],
   "source": [
    "7*7*7"
   ]
  },
  {
   "cell_type": "markdown",
   "id": "1916db63",
   "metadata": {},
   "source": [
    "#### Lambda in dictionary switch-case\n",
    "\n",
    "Depending on the input the two numbers will be added, subtracted, multiplied or divided."
   ]
  },
  {
   "cell_type": "code",
   "execution_count": null,
   "id": "d54f2632",
   "metadata": {},
   "outputs": [],
   "source": [
    "ops = {\n",
    "    '+' : lambda x, y : x + y,\n",
    "    '-' : lambda x, y: x - y,\n",
    "    '*' : lambda x, y: x * y,\n",
    "    '/' : lambda x, y: x / y\n",
    "}\n",
    "\n",
    "print(ops[input(\"Set +, -, * or /: \")](3, 4))"
   ]
  },
  {
   "cell_type": "markdown",
   "id": "8beb33e0",
   "metadata": {},
   "source": [
    "#### Sort list of dicts by nested field\n",
    "\n",
    "Create a list with dict entries. Dictanory stores information about a person (name and age)."
   ]
  },
  {
   "cell_type": "code",
   "execution_count": null,
   "id": "f1bb8611",
   "metadata": {},
   "outputs": [],
   "source": [
    "persons = [{'name': 'Alice', 'age': 30}, {'name': 'Bob', 'age': 25}]\n",
    "persons"
   ]
  },
  {
   "cell_type": "code",
   "execution_count": null,
   "id": "d004ba2c",
   "metadata": {},
   "outputs": [],
   "source": [
    "type(persons)"
   ]
  },
  {
   "cell_type": "code",
   "execution_count": null,
   "id": "db67c6cc",
   "metadata": {},
   "outputs": [],
   "source": [
    "type(persons[0])"
   ]
  },
  {
   "cell_type": "code",
   "execution_count": null,
   "id": "d256396a",
   "metadata": {},
   "outputs": [],
   "source": [
    "sorted_persons = sorted(persons, key=lambda x: x['age'])\n",
    "print(sorted_persons)"
   ]
  },
  {
   "cell_type": "markdown",
   "id": "7fd5d6d0",
   "metadata": {},
   "source": [
    "#### Lambda + conditional expressions\n",
    "\n",
    "Use if and else in a lambda expression for different output."
   ]
  },
  {
   "cell_type": "code",
   "execution_count": null,
   "id": "a4490f45",
   "metadata": {},
   "outputs": [],
   "source": [
    "evenOdd = lambda x : \"Even\" if x % 2 == 0 else \"Odd\"\n",
    "\n",
    "\n",
    "evenOdd(4)"
   ]
  },
  {
   "cell_type": "markdown",
   "id": "bbdf2820",
   "metadata": {},
   "source": [
    "<div style=\"text-align: center;\">\n",
    "  <a href=\"https://en.wikipedia.org/wiki/Guido_van_Rossum\" target=\"_blank\">\n",
    "    <img src=\"../images/Guido_van_Rossum_OSCON_2006.jpg\" alt=\"Guido van Rossum\" style=\"max-width: 200px;\">\n",
    "  </a>\n",
    "</div>"
   ]
  },
  {
   "cell_type": "markdown",
   "id": "f49ad118",
   "metadata": {},
   "source": [
    "<div style=\"\n",
    "    background-color:rgb(44, 158, 224); \n",
    "    color: #333; \n",
    "    padding: 15px; \n",
    "    border-radius: 10px; \n",
    "    text-align: center; \n",
    "    font-size: 18px; \n",
    "    font-weight: bold;\n",
    "    box-shadow: 3px 3px 10px rgba(0, 0, 0, 0.1);\">\n",
    "    🔗  Connect with me:  \n",
    "    <br><br>\n",
    "    📌 <a href=\"https://www.linkedin.com/in/jan-eric-keller\" target=\"_blank\" style=\"color:rgb(127, 181, 0); text-decoration: none; font-weight: bold;\">LinkedIn</a>  \n",
    "    <br>\n",
    "    📊 <a href=\"https://www.kaggle.com/whatthedatahastotell\" target=\"_blank\" style=\"color:rgb(88, 255, 32); text-decoration: none; font-weight: bold;\">Kaggle</a>  \n",
    "    <br>\n",
    "    🎥 <a href=\"https://www.youtube.com/@ehemAushilfskassierer\" target=\"_blank\" style=\"color: #ff0000; text-decoration: none; font-weight: bold;\">YouTube</a>  \n",
    "    <br>\n",
    "    📸 <a href=\"https://www.instagram.com/ehem.aushilfskassierer/\" target=\"_blank\" style=\"color: #e1306c; text-decoration: none; font-weight: bold;\">Instagram</a>  \n",
    "    <br>\n",
    "    🎵 <a href=\"https://www.tiktok.com/@ehem.aushilfskassierer\" target=\"_blank\" style=\"color: #000000; text-decoration: none; font-weight: bold;\">TikTok</a>  \n",
    "    <br>\n",
    "    💻 <a href=\"https://github.com/ehemAushilfskassierer\" target=\"_blank\" style=\"color: #333; text-decoration: none; font-weight: bold;\">GitHub</a>  \n",
    "    <br><br>\n",
    "    🚀 If you found this helpful, leave an <span style=\"color: #ff5b33;\">⭐ upvote</span>!  \n",
    "    <br>\n",
    "    💬 Let me know in the comments what you liked or what could be improved!  \n",
    "</div>\n"
   ]
  }
 ],
 "metadata": {
  "kernelspec": {
   "display_name": "Python 3",
   "language": "python",
   "name": "python3"
  },
  "language_info": {
   "codemirror_mode": {
    "name": "ipython",
    "version": 3
   },
   "file_extension": ".py",
   "mimetype": "text/x-python",
   "name": "python",
   "nbconvert_exporter": "python",
   "pygments_lexer": "ipython3",
   "version": "3.13.2"
  }
 },
 "nbformat": 4,
 "nbformat_minor": 5
}
