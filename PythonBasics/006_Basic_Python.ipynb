{
 "cells": [
  {
   "cell_type": "markdown",
   "id": "e3cce910",
   "metadata": {},
   "source": [
    "<div style=\"\n",
    "    background-color:rgb(44, 158, 224); \n",
    "    color: #333; \n",
    "    padding: 15px; \n",
    "    border-radius: 10px; \n",
    "    text-align: center; \n",
    "    font-size: 24px; \n",
    "    font-weight: bold;\n",
    "    box-shadow: 3px 3px 10px rgba(0, 0, 0, 0.1);\">\n",
    "    🧠 Basic Python and Statistic 🔢\n",
    "</div>"
   ]
  },
  {
   "cell_type": "markdown",
   "id": "54945164",
   "metadata": {},
   "source": [
    "## Python Basics 6\n",
    "\n",
    "### For Loop\n",
    "\n",
    "Go through the entries in a list / tuple / dict / set / range ... .\n",
    "\n",
    "[w3schools](https://www.w3schools.com/python/python_for_loops.asp)  "
   ]
  },
  {
   "cell_type": "markdown",
   "id": "e8c5cebd",
   "metadata": {},
   "source": [
    "**List**"
   ]
  },
  {
   "cell_type": "code",
   "execution_count": 1,
   "id": "3290794d",
   "metadata": {},
   "outputs": [],
   "source": [
    "lst = [\"banana\", \"apple\", \"orange\", \"peache\"]"
   ]
  },
  {
   "cell_type": "code",
   "execution_count": 2,
   "id": "bc200aeb",
   "metadata": {},
   "outputs": [
    {
     "name": "stdout",
     "output_type": "stream",
     "text": [
      "banana\n",
      "apple\n",
      "orange\n",
      "peache\n"
     ]
    }
   ],
   "source": [
    "for entry in lst:\n",
    "    print(entry)"
   ]
  },
  {
   "cell_type": "markdown",
   "id": "3981d5b5",
   "metadata": {},
   "source": [
    "#### **Nested** Loops\n",
    "\n",
    " - First loop: List  \n",
    "- Second loop: **String**"
   ]
  },
  {
   "cell_type": "code",
   "execution_count": 3,
   "id": "bf75b52a",
   "metadata": {},
   "outputs": [
    {
     "name": "stdout",
     "output_type": "stream",
     "text": [
      "b\n",
      "a\n",
      "n\n",
      "a\n",
      "n\n",
      "a\n",
      "\n",
      "a\n",
      "p\n",
      "p\n",
      "l\n",
      "e\n",
      "\n",
      "o\n",
      "r\n",
      "a\n",
      "n\n",
      "g\n",
      "e\n",
      "\n",
      "p\n",
      "e\n",
      "a\n",
      "c\n",
      "h\n",
      "e\n",
      "\n"
     ]
    }
   ],
   "source": [
    "for entry in lst:\n",
    "    for i in entry:\n",
    "        print(i)\n",
    "    print()"
   ]
  },
  {
   "cell_type": "markdown",
   "id": "9d9cc8aa",
   "metadata": {},
   "source": [
    "**Tuple**"
   ]
  },
  {
   "cell_type": "code",
   "execution_count": 4,
   "id": "b6394f6b",
   "metadata": {},
   "outputs": [],
   "source": [
    "tpl = (\"a\", \"b\", \"c\", \"d\")"
   ]
  },
  {
   "cell_type": "code",
   "execution_count": 5,
   "id": "28ce3f19",
   "metadata": {},
   "outputs": [
    {
     "name": "stdout",
     "output_type": "stream",
     "text": [
      "abcd = 'abcd'\n"
     ]
    }
   ],
   "source": [
    "abcd = \"\"\n",
    "\n",
    "for i in tpl:\n",
    "    abcd = abcd + i\n",
    "\n",
    "print(f\"{abcd = }\")"
   ]
  },
  {
   "cell_type": "markdown",
   "id": "dcefd565",
   "metadata": {},
   "source": [
    "**Dict**"
   ]
  },
  {
   "cell_type": "code",
   "execution_count": 6,
   "id": "dc8a247f",
   "metadata": {},
   "outputs": [],
   "source": [
    "dct = {\n",
    "    \"key1\" : \"value1\",\n",
    "    \"key2\" : \"value2\",\n",
    "    \"key3\" : \"value3\",\n",
    "}"
   ]
  },
  {
   "cell_type": "code",
   "execution_count": 7,
   "id": "e07aee32",
   "metadata": {},
   "outputs": [
    {
     "name": "stdout",
     "output_type": "stream",
     "text": [
      "Key: key1\n",
      "Key: key2\n",
      "Key: key3\n"
     ]
    }
   ],
   "source": [
    "for key in dct:\n",
    "    print(f\"Key: {key}\")"
   ]
  },
  {
   "cell_type": "code",
   "execution_count": 8,
   "id": "cc2bab96",
   "metadata": {},
   "outputs": [
    {
     "name": "stdout",
     "output_type": "stream",
     "text": [
      "Key: key1\tValue: value1\n",
      "Key: key2\tValue: value2\n",
      "Key: key3\tValue: value3\n"
     ]
    }
   ],
   "source": [
    "for key in dct:\n",
    "    print(f\"Key: {key}\\tValue: {dct[key]}\")"
   ]
  },
  {
   "cell_type": "code",
   "execution_count": 9,
   "id": "235703ad",
   "metadata": {},
   "outputs": [
    {
     "name": "stdout",
     "output_type": "stream",
     "text": [
      "Key: key1\tValue: value1\n",
      "Key: key2\tValue: value2\n",
      "Key: key3\tValue: value3\n"
     ]
    }
   ],
   "source": [
    "for key, value in dct.items():\n",
    "    print(f\"Key: {key}\\tValue: {value}\")"
   ]
  },
  {
   "cell_type": "markdown",
   "id": "42120e4a",
   "metadata": {},
   "source": [
    "**Set**"
   ]
  },
  {
   "cell_type": "code",
   "execution_count": 10,
   "id": "1b3db0af",
   "metadata": {},
   "outputs": [],
   "source": [
    "st = {1, 2, 3, 4, 5, 6, 7}"
   ]
  },
  {
   "cell_type": "code",
   "execution_count": 11,
   "id": "60ad11fb",
   "metadata": {},
   "outputs": [
    {
     "name": "stdout",
     "output_type": "stream",
     "text": [
      "1\n",
      "3\n",
      "6\n",
      "10\n",
      "15\n",
      "21\n",
      "28\n"
     ]
    }
   ],
   "source": [
    "sumSet = 0\n",
    "\n",
    "for entry in st:\n",
    "    sumSet += entry\n",
    "    print(sumSet)"
   ]
  },
  {
   "cell_type": "markdown",
   "id": "089ebb6e",
   "metadata": {},
   "source": [
    "**Range**"
   ]
  },
  {
   "cell_type": "code",
   "execution_count": 12,
   "id": "6993dfc7",
   "metadata": {},
   "outputs": [
    {
     "name": "stdout",
     "output_type": "stream",
     "text": [
      "0\n",
      "1\n",
      "2\n",
      "3\n",
      "4\n",
      "5\n",
      "6\n",
      "7\n",
      "8\n",
      "9\n"
     ]
    }
   ],
   "source": [
    "for i in range(10):\n",
    "    print(i)"
   ]
  },
  {
   "cell_type": "markdown",
   "id": "a7899cd2",
   "metadata": {},
   "source": [
    "**Break** statement"
   ]
  },
  {
   "cell_type": "code",
   "execution_count": 13,
   "id": "fbcd1384",
   "metadata": {},
   "outputs": [
    {
     "name": "stdout",
     "output_type": "stream",
     "text": [
      "0\n",
      "1\n",
      "2\n"
     ]
    }
   ],
   "source": [
    "for i in range(10):\n",
    "    if i == 3:\n",
    "        break\n",
    "    print(i)"
   ]
  },
  {
   "cell_type": "markdown",
   "id": "7d2df6fd",
   "metadata": {},
   "source": [
    "**Continue** statement\n",
    "\n",
    "Skip one step."
   ]
  },
  {
   "cell_type": "code",
   "execution_count": 14,
   "id": "563afd93",
   "metadata": {},
   "outputs": [
    {
     "name": "stdout",
     "output_type": "stream",
     "text": [
      "1\n",
      "3\n",
      "5\n",
      "7\n",
      "9\n"
     ]
    }
   ],
   "source": [
    "for i in range(10):\n",
    "    if i % 2 == 0:\n",
    "        continue\n",
    "    print(i)"
   ]
  },
  {
   "cell_type": "markdown",
   "id": "35090999",
   "metadata": {},
   "source": [
    "**Pass** statement\n",
    "\n",
    "For loops can't be empty, but to do nothing in a for loop, use `pass`."
   ]
  },
  {
   "cell_type": "code",
   "execution_count": 15,
   "id": "4b3c6f67",
   "metadata": {},
   "outputs": [],
   "source": [
    "for i in range(10):\n",
    "    pass"
   ]
  },
  {
   "cell_type": "markdown",
   "id": "a4afcf18",
   "metadata": {},
   "source": [
    "**Else** in the for loop\n",
    "\n",
    "If the for loop ends correctly, an else statement can be executed. The else statement is not executed if the for loop terminates."
   ]
  },
  {
   "cell_type": "code",
   "execution_count": 16,
   "id": "23db059b",
   "metadata": {},
   "outputs": [
    {
     "name": "stdout",
     "output_type": "stream",
     "text": [
      "done\n"
     ]
    }
   ],
   "source": [
    "for i in range(10):\n",
    "    pass\n",
    "else:\n",
    "    print(\"done\")"
   ]
  },
  {
   "cell_type": "code",
   "execution_count": 17,
   "id": "39ad361d",
   "metadata": {},
   "outputs": [],
   "source": [
    "for i in range(10):\n",
    "    if i == 2: break\n",
    "else:\n",
    "    print(\"done\")"
   ]
  },
  {
   "cell_type": "markdown",
   "id": "bbdf2820",
   "metadata": {},
   "source": [
    "<div style=\"text-align: center;\">\n",
    "  <a href=\"https://en.wikipedia.org/wiki/Guido_van_Rossum\" target=\"_blank\">\n",
    "    <img src=\"../images/Guido_van_Rossum_OSCON_2006.jpg\" alt=\"Guido van Rossum\" style=\"max-width: 200px;\">\n",
    "  </a>\n",
    "</div>"
   ]
  },
  {
   "cell_type": "markdown",
   "id": "f49ad118",
   "metadata": {},
   "source": [
    "<div style=\"\n",
    "    background-color:rgb(44, 158, 224); \n",
    "    color: #333; \n",
    "    padding: 15px; \n",
    "    border-radius: 10px; \n",
    "    text-align: center; \n",
    "    font-size: 18px; \n",
    "    font-weight: bold;\n",
    "    box-shadow: 3px 3px 10px rgba(0, 0, 0, 0.1);\">\n",
    "    🔗  Connect with me:  \n",
    "    <br><br>\n",
    "    📌 <a href=\"https://www.linkedin.com/in/jan-eric-keller\" target=\"_blank\" style=\"color:rgb(127, 181, 0); text-decoration: none; font-weight: bold;\">LinkedIn</a>  \n",
    "    <br>\n",
    "    📊 <a href=\"https://www.kaggle.com/whatthedatahastotell\" target=\"_blank\" style=\"color:rgb(88, 255, 32); text-decoration: none; font-weight: bold;\">Kaggle</a>  \n",
    "    <br>\n",
    "    🎥 <a href=\"https://www.youtube.com/@ehemAushilfskassierer\" target=\"_blank\" style=\"color: #ff0000; text-decoration: none; font-weight: bold;\">YouTube</a>  \n",
    "    <br>\n",
    "    📸 <a href=\"https://www.instagram.com/ehem.aushilfskassierer/\" target=\"_blank\" style=\"color: #e1306c; text-decoration: none; font-weight: bold;\">Instagram</a>  \n",
    "    <br>\n",
    "    🎵 <a href=\"https://www.tiktok.com/@ehem.aushilfskassierer\" target=\"_blank\" style=\"color: #000000; text-decoration: none; font-weight: bold;\">TikTok</a>  \n",
    "    <br>\n",
    "    💻 <a href=\"https://github.com/ehemAushilfskassierer\" target=\"_blank\" style=\"color: #333; text-decoration: none; font-weight: bold;\">GitHub</a>  \n",
    "    <br><br>\n",
    "    🚀 If you found this helpful, leave an <span style=\"color: #ff5b33;\">⭐ upvote</span>!  \n",
    "    <br>\n",
    "    💬 Let me know in the comments what you liked or what could be improved!  \n",
    "</div>\n"
   ]
  }
 ],
 "metadata": {
  "kernelspec": {
   "display_name": "venv",
   "language": "python",
   "name": "python3"
  },
  "language_info": {
   "codemirror_mode": {
    "name": "ipython",
    "version": 3
   },
   "file_extension": ".py",
   "mimetype": "text/x-python",
   "name": "python",
   "nbconvert_exporter": "python",
   "pygments_lexer": "ipython3",
   "version": "3.13.2"
  }
 },
 "nbformat": 4,
 "nbformat_minor": 5
}
