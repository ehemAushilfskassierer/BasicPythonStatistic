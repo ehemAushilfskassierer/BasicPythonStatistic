{
 "cells": [
  {
   "cell_type": "markdown",
   "id": "e3cce910",
   "metadata": {},
   "source": [
    "<div style=\"\n",
    "    background-color:rgb(44, 158, 224); \n",
    "    color: #333; \n",
    "    padding: 15px; \n",
    "    border-radius: 10px; \n",
    "    text-align: center; \n",
    "    font-size: 24px; \n",
    "    font-weight: bold;\n",
    "    box-shadow: 3px 3px 10px rgba(0, 0, 0, 0.1);\">\n",
    "    🧠 Basic Python and Statistic 🔢\n",
    "</div>"
   ]
  },
  {
   "cell_type": "markdown",
   "id": "54945164",
   "metadata": {},
   "source": [
    "## Python Basics 8\n",
    "\n",
    "### Match\n",
    "\n",
    "Different actions according to different conditions.\n",
    "\n",
    "[w3schools](https://www.w3schools.com/python/python_match.asp)  "
   ]
  },
  {
   "cell_type": "markdown",
   "id": "6489b2f5",
   "metadata": {},
   "source": [
    "**Syntax**"
   ]
  },
  {
   "cell_type": "code",
   "execution_count": null,
   "id": "1b8f1f2d",
   "metadata": {},
   "outputs": [],
   "source": [
    "command = input(\"Input the command 'start' or 'stop': \")\n",
    "\n",
    "match command:\n",
    "    case \"start\":\n",
    "        print(\"System starts\")\n",
    "    case \"stop\":\n",
    "        print(\"System stops\")\n",
    "    case _:\n",
    "        print(\"Unknown command\")"
   ]
  },
  {
   "cell_type": "markdown",
   "id": "1eb9213d",
   "metadata": {},
   "source": [
    "**Combine Values**"
   ]
  },
  {
   "cell_type": "code",
   "execution_count": null,
   "id": "bc31a083",
   "metadata": {},
   "outputs": [],
   "source": [
    "day = input(\"Input a day of the week: \")\n",
    "\n",
    "match day:\n",
    "    case \"Saturday\" | \"Sunday\":\n",
    "        print(\"Weekend!\")\n",
    "    case \"Monday\" | \"Tuesday\" | \"Wednesday\" | \"Thursday\" | \"Friday\":\n",
    "        print(\"Workday\")\n",
    "    case _:\n",
    "        print(\"Unknown day\")\n"
   ]
  },
  {
   "cell_type": "markdown",
   "id": "fd38abb1",
   "metadata": {},
   "source": [
    "**if-Guard in a case**"
   ]
  },
  {
   "cell_type": "code",
   "execution_count": null,
   "id": "22a90896",
   "metadata": {},
   "outputs": [],
   "source": [
    "number = int(input(\"Set a integer number bigger than zero: \"))\n",
    "\n",
    "match number:\n",
    "    case n if n % 2 == 0:\n",
    "        print(f\"{n} is even\")\n",
    "    case n:\n",
    "        print(f\"{n} is uneven\")\n"
   ]
  },
  {
   "cell_type": "markdown",
   "id": "a1412842",
   "metadata": {},
   "source": [
    "**Matchin with tuple**"
   ]
  },
  {
   "cell_type": "code",
   "execution_count": null,
   "id": "a7953523",
   "metadata": {},
   "outputs": [],
   "source": [
    "x = int(input(\"Set a x-coordination: \"))\n",
    "y = int(input(\"Set a y-coordination: \"))\n",
    "point = (x, y)\n",
    "\n",
    "match point:\n",
    "    case (0, 0):\n",
    "        print(f\"In the center {point}\")\n",
    "    case (0, y):\n",
    "        print(f\"On the y-axis at y={y}\")\n",
    "    case (x, 0):\n",
    "        print(f\"On the x-axis at x={x}\")\n",
    "    case (x, y):\n",
    "        print(f\"Somewhere in the coordinate system: ({x}, {y})\")\n"
   ]
  },
  {
   "cell_type": "markdown",
   "id": "dcd86de5",
   "metadata": {},
   "source": [
    "**Matching with list**"
   ]
  },
  {
   "cell_type": "code",
   "execution_count": null,
   "id": "e0be22e2",
   "metadata": {},
   "outputs": [],
   "source": [
    "data = input(\"Enter numbers separated by spaces:\").split()\n",
    "data = [int(i) for i in data]\n",
    "\n",
    "match data:\n",
    "    case []:\n",
    "        print(\"Empty list\")\n",
    "    case [x]:\n",
    "        print(f\"One number: {x}\")\n",
    "    case [x, y]:\n",
    "        print(f\"Two numbers: {x}, {y}\")\n",
    "    case [x, y, *rest]:\n",
    "        print(f\"First two: {x}, {y}; rest: {rest}\")\n"
   ]
  },
  {
   "cell_type": "markdown",
   "id": "a0954cc0",
   "metadata": {},
   "source": [
    "**Matching with class attributes (pattern matching)**"
   ]
  },
  {
   "cell_type": "code",
   "execution_count": null,
   "id": "21c36a36",
   "metadata": {},
   "outputs": [],
   "source": [
    "class User:\n",
    "    def __init__(self, name, role):\n",
    "        self.name = name\n",
    "        self.role = role"
   ]
  },
  {
   "cell_type": "code",
   "execution_count": null,
   "id": "49ff1563",
   "metadata": {},
   "outputs": [],
   "source": [
    "user = User(\"Max\", \"admin\")"
   ]
  },
  {
   "cell_type": "code",
   "execution_count": null,
   "id": "e2dae1c1",
   "metadata": {},
   "outputs": [],
   "source": [
    "match user:\n",
    "    case User(name=\"Max\", role=\"admin\"):\n",
    "        print(\"Welcome, Admin Max!\")\n",
    "    case User(name=n, role=\"user\"):\n",
    "        print(f\"Hello user {n}\")\n",
    "    case _:\n",
    "        print(\"Unknown user\")\n"
   ]
  },
  {
   "cell_type": "markdown",
   "id": "bbdf2820",
   "metadata": {},
   "source": [
    "<div style=\"text-align: center;\">\n",
    "  <a href=\"https://en.wikipedia.org/wiki/Guido_van_Rossum\" target=\"_blank\">\n",
    "    <img src=\"../images/Guido_van_Rossum_OSCON_2006.jpg\" alt=\"Guido van Rossum\" style=\"max-width: 200px;\">\n",
    "  </a>\n",
    "</div>"
   ]
  },
  {
   "cell_type": "markdown",
   "id": "f49ad118",
   "metadata": {},
   "source": [
    "<div style=\"\n",
    "    background-color:rgb(44, 158, 224); \n",
    "    color: #333; \n",
    "    padding: 15px; \n",
    "    border-radius: 10px; \n",
    "    text-align: center; \n",
    "    font-size: 18px; \n",
    "    font-weight: bold;\n",
    "    box-shadow: 3px 3px 10px rgba(0, 0, 0, 0.1);\">\n",
    "    🔗  Connect with me:  \n",
    "    <br><br>\n",
    "    📌 <a href=\"https://www.linkedin.com/in/jan-eric-keller\" target=\"_blank\" style=\"color:rgb(127, 181, 0); text-decoration: none; font-weight: bold;\">LinkedIn</a>  \n",
    "    <br>\n",
    "    📊 <a href=\"https://www.kaggle.com/whatthedatahastotell\" target=\"_blank\" style=\"color:rgb(88, 255, 32); text-decoration: none; font-weight: bold;\">Kaggle</a>  \n",
    "    <br>\n",
    "    🎥 <a href=\"https://www.youtube.com/@ehemAushilfskassierer\" target=\"_blank\" style=\"color: #ff0000; text-decoration: none; font-weight: bold;\">YouTube</a>  \n",
    "    <br>\n",
    "    📸 <a href=\"https://www.instagram.com/ehem.aushilfskassierer/\" target=\"_blank\" style=\"color: #e1306c; text-decoration: none; font-weight: bold;\">Instagram</a>  \n",
    "    <br>\n",
    "    🎵 <a href=\"https://www.tiktok.com/@ehem.aushilfskassierer\" target=\"_blank\" style=\"color: #000000; text-decoration: none; font-weight: bold;\">TikTok</a>  \n",
    "    <br>\n",
    "    💻 <a href=\"https://github.com/ehemAushilfskassierer\" target=\"_blank\" style=\"color: #333; text-decoration: none; font-weight: bold;\">GitHub</a>  \n",
    "    <br><br>\n",
    "    🚀 If you found this helpful, leave an <span style=\"color: #ff5b33;\">⭐ upvote</span>!  \n",
    "    <br>\n",
    "    💬 Let me know in the comments what you liked or what could be improved!  \n",
    "</div>\n"
   ]
  }
 ],
 "metadata": {
  "kernelspec": {
   "display_name": "venv",
   "language": "python",
   "name": "python3"
  },
  "language_info": {
   "codemirror_mode": {
    "name": "ipython",
    "version": 3
   },
   "file_extension": ".py",
   "mimetype": "text/x-python",
   "name": "python",
   "nbconvert_exporter": "python",
   "pygments_lexer": "ipython3",
   "version": "3.13.2"
  }
 },
 "nbformat": 4,
 "nbformat_minor": 5
}
