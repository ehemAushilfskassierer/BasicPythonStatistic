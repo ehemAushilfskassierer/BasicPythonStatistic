{
 "cells": [
  {
   "cell_type": "markdown",
   "id": "e3cce910",
   "metadata": {},
   "source": [
    "<div style=\"\n",
    "    background-color:rgb(44, 158, 224); \n",
    "    color: #333; \n",
    "    padding: 15px; \n",
    "    border-radius: 10px; \n",
    "    text-align: center; \n",
    "    font-size: 24px; \n",
    "    font-weight: bold;\n",
    "    box-shadow: 3px 3px 10px rgba(0, 0, 0, 0.1);\">\n",
    "    🧠 Basic Python and Statistic 🔢\n",
    "</div>"
   ]
  },
  {
   "cell_type": "markdown",
   "id": "54945164",
   "metadata": {},
   "source": [
    "## Python Basics 5\n",
    "\n",
    "### If, else and elif\n",
    "\n",
    "✅ What You’ll Learn\n",
    "- How to use conditional logic in Python\n",
    "- The structure of if, elif, and else\n",
    "- How to compare values using different comparison operators\n",
    "\n",
    "[w3schools](https://www.w3schools.com/python/python_conditions.asp)  "
   ]
  },
  {
   "cell_type": "markdown",
   "id": "1f3106c9",
   "metadata": {},
   "source": [
    "#### 🧪 Comparison Operators in Action\n",
    "\n",
    "Reminder from last Basics.\n",
    "\n",
    "| Operator | Description              | Example  |\n",
    "| -------- | ------------------------ | -------- |\n",
    "| `==`     | Equals                   | `a == b` |\n",
    "| `!=`     | Not equals               | `a != b` |\n",
    "| `<`      | Less than                | `a < b`  |\n",
    "| `<=`     | Less than or equal to    | `a <= b` |\n",
    "| `>`      | Greater than             | `a > b`  |\n",
    "| `>=`     | Greater than or equal to | `a >= b` |"
   ]
  },
  {
   "cell_type": "markdown",
   "id": "dd5f8d5a",
   "metadata": {},
   "source": [
    "#### 🧠 Concept Overview\n",
    "\n",
    "Conditional statements let you run different blocks of code depending on whether a condition is `True` or `False`."
   ]
  },
  {
   "cell_type": "markdown",
   "id": "dfe61ba7",
   "metadata": {},
   "source": [
    "```Python\n",
    "if condition:\n",
    "    # code runs if condition is True\n",
    "elif another_condition:\n",
    "    # code runs if the second condition is True\n",
    "else:\n",
    "    # code runs if no condition is True\n",
    "```"
   ]
  },
  {
   "cell_type": "markdown",
   "id": "55ada679",
   "metadata": {},
   "source": [
    "Input() prompts the person to enter a value."
   ]
  },
  {
   "cell_type": "code",
   "execution_count": null,
   "id": "0e002c4f",
   "metadata": {},
   "outputs": [],
   "source": [
    "def get_number(prompt):\n",
    "    while True:\n",
    "        try:\n",
    "            return float(input(prompt))\n",
    "        except ValueError:\n",
    "            print(\"Invalid input. Please enter a numerical\"\\\n",
    "                  \" value.\")"
   ]
  },
  {
   "cell_type": "code",
   "execution_count": null,
   "id": "115889ca",
   "metadata": {},
   "outputs": [],
   "source": [
    "a = get_number(\"Enter a numerical value for a: \")\n",
    "b = get_number(\"Enter a numerical value for b: \")\n",
    "\n",
    "if a == b:\n",
    "    print(\"a and b are equal\")\n",
    "elif a < b:\n",
    "    print(\"a is less than b\")\n",
    "else:\n",
    "    print(\"a is greater than b\")\n",
    "\n",
    "print(f\"{a = }\\n{b = }\")"
   ]
  },
  {
   "cell_type": "markdown",
   "id": "600a6e7a",
   "metadata": {},
   "source": [
    "##### 🔁 Nested Conditions\n",
    "You can put one if inside another:"
   ]
  },
  {
   "cell_type": "code",
   "execution_count": null,
   "id": "5583dbdd",
   "metadata": {},
   "outputs": [],
   "source": [
    "a = 10\n",
    "b = 20\n",
    "\n",
    "if a < b:\n",
    "    if a > 5:\n",
    "        print(\"a is between 6 and 19\")"
   ]
  },
  {
   "cell_type": "markdown",
   "id": "f88891dc",
   "metadata": {},
   "source": [
    "##### A possible example"
   ]
  },
  {
   "cell_type": "code",
   "execution_count": null,
   "id": "a92734e5",
   "metadata": {},
   "outputs": [],
   "source": [
    "temperature = 18\n",
    "\n",
    "if temperature >= 25:\n",
    "    print(\"It's hot\")\n",
    "elif temperature >= 15:\n",
    "    print(\"It's warm\")\n",
    "else:\n",
    "    print(\"It's cold\")"
   ]
  },
  {
   "cell_type": "markdown",
   "id": "15e50cbe",
   "metadata": {},
   "source": [
    "#### ⚠️ Note on Indentation\n",
    "\n",
    "Python uses **indentation** (spaces/tabs) to define code blocks. If you forget indentation, you’ll get an error.\n",
    "\n",
    "#### 💡 Tips\n",
    "\n",
    "* Use `elif` to handle multiple exclusive conditions\n",
    "* Combine conditions using `and`, `or`, `not`\n",
    "* Keep conditions readable and avoid over-nesting"
   ]
  },
  {
   "cell_type": "markdown",
   "id": "bbdf2820",
   "metadata": {},
   "source": [
    "<div style=\"text-align: center;\">\n",
    "  <a href=\"https://en.wikipedia.org/wiki/Guido_van_Rossum\" target=\"_blank\">\n",
    "    <img src=\"../images/Guido_van_Rossum_OSCON_2006.jpg\" alt=\"Guido van Rossum\" style=\"max-width: 200px;\">\n",
    "  </a>\n",
    "</div>"
   ]
  },
  {
   "cell_type": "markdown",
   "id": "f49ad118",
   "metadata": {},
   "source": [
    "<div style=\"\n",
    "    background-color:rgb(44, 158, 224); \n",
    "    color: #333; \n",
    "    padding: 15px; \n",
    "    border-radius: 10px; \n",
    "    text-align: center; \n",
    "    font-size: 18px; \n",
    "    font-weight: bold;\n",
    "    box-shadow: 3px 3px 10px rgba(0, 0, 0, 0.1);\">\n",
    "    🔗  Connect with me:  \n",
    "    <br><br>\n",
    "    📌 <a href=\"https://www.linkedin.com/in/jan-eric-keller\" target=\"_blank\" style=\"color:rgb(127, 181, 0); text-decoration: none; font-weight: bold;\">LinkedIn</a>  \n",
    "    <br>\n",
    "    📊 <a href=\"https://www.kaggle.com/whatthedatahastotell\" target=\"_blank\" style=\"color:rgb(88, 255, 32); text-decoration: none; font-weight: bold;\">Kaggle</a>  \n",
    "    <br>\n",
    "    🎥 <a href=\"https://www.youtube.com/@ehemAushilfskassierer\" target=\"_blank\" style=\"color: #ff0000; text-decoration: none; font-weight: bold;\">YouTube</a>  \n",
    "    <br>\n",
    "    📸 <a href=\"https://www.instagram.com/ehem.aushilfskassierer/\" target=\"_blank\" style=\"color: #e1306c; text-decoration: none; font-weight: bold;\">Instagram</a>  \n",
    "    <br>\n",
    "    🎵 <a href=\"https://www.tiktok.com/@ehem.aushilfskassierer\" target=\"_blank\" style=\"color: #000000; text-decoration: none; font-weight: bold;\">TikTok</a>  \n",
    "    <br>\n",
    "    💻 <a href=\"https://github.com/ehemAushilfskassierer\" target=\"_blank\" style=\"color: #333; text-decoration: none; font-weight: bold;\">GitHub</a>  \n",
    "    <br><br>\n",
    "    🚀 If you found this helpful, leave an <span style=\"color: #ff5b33;\">⭐ upvote</span>!  \n",
    "    <br>\n",
    "    💬 Let me know in the comments what you liked or what could be improved!  \n",
    "</div>\n"
   ]
  }
 ],
 "metadata": {
  "kernelspec": {
   "display_name": "Python 3",
   "language": "python",
   "name": "python3"
  },
  "language_info": {
   "codemirror_mode": {
    "name": "ipython",
    "version": 3
   },
   "file_extension": ".py",
   "mimetype": "text/x-python",
   "name": "python",
   "nbconvert_exporter": "python",
   "pygments_lexer": "ipython3",
   "version": "3.13.2"
  }
 },
 "nbformat": 4,
 "nbformat_minor": 5
}
