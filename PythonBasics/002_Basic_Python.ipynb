{
 "cells": [
  {
   "cell_type": "markdown",
   "id": "e3cce910",
   "metadata": {},
   "source": [
    "<div style=\"\n",
    "    background-color:rgb(44, 158, 224); \n",
    "    color: #333; \n",
    "    padding: 15px; \n",
    "    border-radius: 10px; \n",
    "    text-align: center; \n",
    "    font-size: 24px; \n",
    "    font-weight: bold;\n",
    "    box-shadow: 3px 3px 10px rgba(0, 0, 0, 0.1);\">\n",
    "    🧠 Basic Python and Statistik: Crack math and programming problems! 🔢\n",
    "</div>"
   ]
  },
  {
   "cell_type": "markdown",
   "id": "54945164",
   "metadata": {},
   "source": [
    "## Python Basics 2\n",
    "\n",
    "### Casting in Python\n",
    "Specify a variable type.\n",
    "\n",
    "[w3schools](https://www.w3schools.com/python/python_casting.asp)  \n",
    "Use constructor functions to cast a specific variable type to a variable."
   ]
  },
  {
   "cell_type": "code",
   "execution_count": 2,
   "id": "892d1ed4",
   "metadata": {},
   "outputs": [
    {
     "name": "stdout",
     "output_type": "stream",
     "text": [
      "ten = 10\n",
      "pi = 3\n",
      "two = 2\n"
     ]
    }
   ],
   "source": [
    "# Integer\n",
    "ten = int(10)\n",
    "pi = int(3.14)\n",
    "two = int(\"2\")\n",
    "\n",
    "print(f\"{ten = }\\n{pi = }\\n{two = }\")"
   ]
  },
  {
   "cell_type": "code",
   "execution_count": 3,
   "id": "d46c949e",
   "metadata": {},
   "outputs": [
    {
     "name": "stdout",
     "output_type": "stream",
     "text": [
      "ten = 10.0\n",
      "pi = 3.14\n",
      "two = 2.0\n"
     ]
    }
   ],
   "source": [
    "# Float\n",
    "ten = float(10)\n",
    "pi = float(3.14)\n",
    "two = float(\"2\")\n",
    "\n",
    "print(f\"{ten = }\\n{pi = }\\n{two = }\")"
   ]
  },
  {
   "cell_type": "code",
   "execution_count": 4,
   "id": "f3229222",
   "metadata": {},
   "outputs": [
    {
     "name": "stdout",
     "output_type": "stream",
     "text": [
      "ten = '10.0'\n",
      "pi = '3.14'\n",
      "two = '2.0'\n"
     ]
    }
   ],
   "source": [
    "ten = str(ten)\n",
    "pi = str(pi)\n",
    "two = str(two)\n",
    "\n",
    "print(f\"{ten = }\\n{pi = }\\n{two = }\")"
   ]
  },
  {
   "cell_type": "markdown",
   "id": "3e67833a",
   "metadata": {},
   "source": [
    "#### Other casting"
   ]
  },
  {
   "cell_type": "code",
   "execution_count": 8,
   "id": "f257729a",
   "metadata": {},
   "outputs": [
    {
     "name": "stdout",
     "output_type": "stream",
     "text": [
      "(6+8j)\n"
     ]
    }
   ],
   "source": [
    "# Complex\n",
    "nbrCom = complex(6, 8)\n",
    "\n",
    "print(nbrCom)"
   ]
  },
  {
   "cell_type": "code",
   "execution_count": 2,
   "id": "5be97217",
   "metadata": {},
   "outputs": [
    {
     "name": "stdout",
     "output_type": "stream",
     "text": [
      "lst = [1, 2, 3, 4]\ttype(lst) = <class 'list'>\n",
      "lstC = [1, 2, 3, 4]\ttype(lstC) = <class 'list'>\n",
      "\n",
      "tpl = ('a', 'b', 'c')\ttype(tpl) = <class 'tuple'>\n",
      "tplC = ('a', 'b', 'c')\ttype(tplC) = <class 'tuple'>\n"
     ]
    }
   ],
   "source": [
    "# Sequence\n",
    "\n",
    "# List\n",
    "lst = [1, 2, 3, 4] # Without casting\n",
    "lstC = list((1, 2, 3, 4)) # With casting\n",
    "\n",
    "print(f\"{lst = }\\t{type(lst) = }\")\n",
    "print(f\"{lstC = }\\t{type(lstC) = }\\n\")\n",
    "\n",
    "# Tuple\n",
    "tpl = (\"a\", \"b\", \"c\") # Without casting\n",
    "tplC = tuple((\"a\", \"b\", \"c\")) # With casting\n",
    "\n",
    "print(f\"{tpl = }\\t{type(tpl) = }\")\n",
    "print(f\"{tplC = }\\t{type(tplC) = }\")"
   ]
  },
  {
   "cell_type": "code",
   "execution_count": 3,
   "id": "0f4da94d",
   "metadata": {},
   "outputs": [
    {
     "name": "stdout",
     "output_type": "stream",
     "text": [
      "dct = {'a': 1234, 'b': 5678, 'c': 9012}\n",
      "type(dct) = <class 'dict'>\n",
      "\n",
      "dctC = {'a': 1234, 'b': 5678, 'c': 9012}\n",
      "type(dctC) = <class 'dict'>\n"
     ]
    }
   ],
   "source": [
    "# Mapping\n",
    "dct = {\n",
    "    \"a\": 1234,\n",
    "    \"b\": 5678,\n",
    "    \"c\": 9012\n",
    "} # Without casting\n",
    "dctC = dict(\n",
    "    a=1234,\n",
    "    b=5678,\n",
    "    c=9012\n",
    ") # With casting\n",
    "\n",
    "print(f\"{dct = }\\n{type(dct) = }\\n\")\n",
    "print(f\"{dctC = }\\n{type(dctC) = }\")"
   ]
  },
  {
   "cell_type": "code",
   "execution_count": 5,
   "id": "68aa8cec",
   "metadata": {},
   "outputs": [
    {
     "name": "stdout",
     "output_type": "stream",
     "text": [
      "st = {'Euler', 'Newton', 'Archimedes'}\ttype(st) = <class 'set'>\n",
      "stC = {'Euler', 'Newton', 'Archimedes'}\ttype(stC) = <class 'set'>\n",
      "\n",
      "frznst = frozenset({'Pythagoras von Samos', 'Brook Taylor', 'Carl Friedrich Gauss'})\ttype(frznst) = <class 'frozenset'>\n"
     ]
    }
   ],
   "source": [
    "# Set\n",
    "st = {\n",
    "    \"Euler\",\n",
    "    \"Newton\",\n",
    "    \"Archimedes\"\n",
    "} # Without casting\n",
    "stC = set((\n",
    "    \"Euler\",\n",
    "    \"Newton\",\n",
    "    \"Archimedes\"\n",
    ")) # With casting\n",
    "\n",
    "print(f\"{st = }\\t{type(st) = }\")\n",
    "print(f\"{stC = }\\t{type(stC) = }\\n\")\n",
    "\n",
    "# Frozenset\n",
    "frznst = frozenset({\n",
    "    \"Pythagoras von Samos\",\n",
    "    \"Brook Taylor\",\n",
    "    \"Carl Friedrich Gauss\"\n",
    "    }) # Already a casting product\n",
    "\n",
    "print(f\"{frznst = }\\t{type(frznst) = }\")"
   ]
  },
  {
   "cell_type": "code",
   "execution_count": 9,
   "id": "07a61132",
   "metadata": {},
   "outputs": [
    {
     "name": "stdout",
     "output_type": "stream",
     "text": [
      "bln = True\ttype(bln) = <class 'bool'>\n",
      "blnC = True\ttype(blnC) = <class 'bool'>\n",
      "blnC1 = True\ttype(blnC1) = <class 'bool'>\n",
      "blnC2 = False\ttype(blnC2) = <class 'bool'>\n"
     ]
    }
   ],
   "source": [
    "# Boolean\n",
    "bln = True # Without casting\n",
    "blnC = bool(5) # With casting\n",
    "blnC1 = bool(1) # bigger than 0 is True\n",
    "blnC2 = bool(0) # 0 -> False\n",
    "\n",
    "print(f\"{bln = }\\t{type(bln) = }\")\n",
    "print(f\"{blnC = }\\t{type(blnC) = }\")\n",
    "print(f\"{blnC1 = }\\t{type(blnC1) = }\")\n",
    "print(f\"{blnC2 = }\\t{type(blnC2) = }\")"
   ]
  },
  {
   "cell_type": "code",
   "execution_count": 11,
   "id": "a76831f2",
   "metadata": {},
   "outputs": [
    {
     "name": "stdout",
     "output_type": "stream",
     "text": [
      "bt = b'ehemAushilfskassierer'\ttype(bt) = <class 'bytes'>\n",
      "btC = bytearray(b'ehemAushilfskassierer')\ttype(btC) = <class 'bytearray'>\n",
      "\n",
      "bytrry = bytearray(b'\\x00\\x00\\x00')\ttype(bytrry) = <class 'bytearray'>\n",
      "\n",
      "mmryvw = <memory at 0x000001E923DF8DC0>\ttype(mmryvw) = <class 'memoryview'>\n"
     ]
    }
   ],
   "source": [
    "# Binary\n",
    "bt = b\"ehemAushilfskassierer\" # Without casting\n",
    "btC = bytearray(b\"ehemAushilfskassierer\") # With casting\n",
    "\n",
    "print(f\"{bt = }\\t{type(bt) = }\")\n",
    "print(f\"{btC = }\\t{type(btC) = }\\n\")\n",
    "\n",
    "# Bytearray\n",
    "bytrry = bytearray(3) # Already a casting product\n",
    "\n",
    "print(f\"{bytrry = }\\t{type(bytrry) = }\\n\")\n",
    "\n",
    "# Memoryview\n",
    "mmryvw = memoryview(bytes(8)) # Already a casting product\n",
    "\n",
    "print(f\"{mmryvw = }\\t{type(mmryvw) = }\")"
   ]
  },
  {
   "cell_type": "markdown",
   "id": "f49ad118",
   "metadata": {},
   "source": [
    "<div style=\"\n",
    "    background-color:rgb(44, 158, 224); \n",
    "    color: #333; \n",
    "    padding: 15px; \n",
    "    border-radius: 10px; \n",
    "    text-align: center; \n",
    "    font-size: 18px; \n",
    "    font-weight: bold;\n",
    "    box-shadow: 3px 3px 10px rgba(0, 0, 0, 0.1);\">\n",
    "    🔗  Connect with me:  \n",
    "    <br><br>\n",
    "    📌 <a href=\"https://www.linkedin.com/in/jan-eric-keller\" target=\"_blank\" style=\"color:rgb(127, 181, 0); text-decoration: none; font-weight: bold;\">LinkedIn</a>  \n",
    "    <br>\n",
    "    📊 <a href=\"https://www.kaggle.com/whatthedatahastotell\" target=\"_blank\" style=\"color:rgb(88, 255, 32); text-decoration: none; font-weight: bold;\">Kaggle</a>  \n",
    "    <br>\n",
    "    🎥 <a href=\"https://www.youtube.com/@ehemAushilfskassierer\" target=\"_blank\" style=\"color: #ff0000; text-decoration: none; font-weight: bold;\">YouTube</a>  \n",
    "    <br>\n",
    "    📸 <a href=\"https://www.instagram.com/ehem.aushilfskassierer/\" target=\"_blank\" style=\"color: #e1306c; text-decoration: none; font-weight: bold;\">Instagram</a>  \n",
    "    <br>\n",
    "    🎵 <a href=\"https://www.tiktok.com/@ehem.aushilfskassierer\" target=\"_blank\" style=\"color: #000000; text-decoration: none; font-weight: bold;\">TikTok</a>  \n",
    "    <br>\n",
    "    💻 <a href=\"https://github.com/ehemAushilfskassierer\" target=\"_blank\" style=\"color: #333; text-decoration: none; font-weight: bold;\">GitHub</a>  \n",
    "    <br><br>\n",
    "    🚀 If you found this helpful, leave an <span style=\"color: #ff5b33;\">⭐ upvote</span>!  \n",
    "    <br>\n",
    "    💬 Let me know in the comments what you liked or what could be improved!  \n",
    "</div>\n"
   ]
  },
  {
   "cell_type": "markdown",
   "id": "d2acf8b4",
   "metadata": {},
   "source": []
  }
 ],
 "metadata": {
  "kernelspec": {
   "display_name": "Python 3",
   "language": "python",
   "name": "python3"
  },
  "language_info": {
   "codemirror_mode": {
    "name": "ipython",
    "version": 3
   },
   "file_extension": ".py",
   "mimetype": "text/x-python",
   "name": "python",
   "nbconvert_exporter": "python",
   "pygments_lexer": "ipython3",
   "version": "3.13.2"
  }
 },
 "nbformat": 4,
 "nbformat_minor": 5
}
