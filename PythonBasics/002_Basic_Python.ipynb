{
 "cells": [
  {
   "cell_type": "markdown",
   "id": "e3cce910",
   "metadata": {},
   "source": [
    "<div style=\"\n",
    "    background-color:rgb(44, 158, 224); \n",
    "    color: #333; \n",
    "    padding: 15px; \n",
    "    border-radius: 10px; \n",
    "    text-align: center; \n",
    "    font-size: 24px; \n",
    "    font-weight: bold;\n",
    "    box-shadow: 3px 3px 10px rgba(0, 0, 0, 0.1);\">\n",
    "    🧠 Basic Python and Statistic 🔢\n",
    "</div>"
   ]
  },
  {
   "cell_type": "markdown",
   "id": "54945164",
   "metadata": {},
   "source": [
    "## Python Basics 2\n",
    "\n",
    "### Casting in Python\n",
    "Specify a variable type.\n",
    "\n",
    "[w3schools](https://www.w3schools.com/python/python_casting.asp)  \n",
    "Use constructor functions to cast a specific variable type to a variable."
   ]
  },
  {
   "cell_type": "code",
   "execution_count": null,
   "id": "1babe4b6",
   "metadata": {},
   "outputs": [],
   "source": [
    "# Integer\n",
    "ten = int(10)\n",
    "pi = int(3.14)\n",
    "two = int(\"2\")\n",
    "\n",
    "print(f\"{ten = }\\n{pi = }\\n{two = }\")"
   ]
  },
  {
   "cell_type": "code",
   "execution_count": null,
   "id": "33efd56d",
   "metadata": {},
   "outputs": [],
   "source": [
    "# Integer\n",
    "ten = int(10)\n",
    "pi = int(3.14)\n",
    "two = int(\"2\")\n",
    "\n",
    "print(f\"{ten = }\\n{pi = }\\n{two = }\")"
   ]
  },
  {
   "cell_type": "code",
   "execution_count": null,
   "id": "f1151474",
   "metadata": {},
   "outputs": [],
   "source": [
    "# Text\n",
    "ten = str(ten)\n",
    "pi = str(pi)\n",
    "two = str(two)\n",
    "\n",
    "print(f\"{ten = }\\n{pi = }\\n{two = }\")"
   ]
  },
  {
   "cell_type": "code",
   "execution_count": null,
   "id": "857dcd33",
   "metadata": {},
   "outputs": [],
   "source": [
    "# Complex\n",
    "nbrCom = complex(6, 8)\n",
    "\n",
    "print(nbrCom)"
   ]
  },
  {
   "cell_type": "code",
   "execution_count": null,
   "id": "59480cfb",
   "metadata": {},
   "outputs": [],
   "source": [
    "# Sequence\n",
    "\n",
    "# List\n",
    "lst = [1, 2, 3, 4] # Without casting\n",
    "lstC = list((1, 2, 3, 4)) # With casting\n",
    "\n",
    "print(f\"{lst = }\\t{type(lst) = }\")\n",
    "print(f\"{lstC = }\\t{type(lstC) = }\\n\")\n",
    "\n",
    "# Tuple\n",
    "tpl = (\"a\", \"b\", \"c\") # Without casting\n",
    "tplC = tuple((\"a\", \"b\", \"c\")) # With casting\n",
    "\n",
    "print(f\"{tpl = }\\t{type(tpl) = }\")\n",
    "print(f\"{tplC = }\\t{type(tplC) = }\")"
   ]
  },
  {
   "cell_type": "code",
   "execution_count": null,
   "id": "e82e3419",
   "metadata": {},
   "outputs": [],
   "source": [
    "tpl = (\"a\", \"b\", \"c\")\n",
    "tplC = tuple((\"a\", \"b\", \"c\"))\n",
    "\n",
    "print(f\"{tpl = }\\t{type(tpl) = }\")\n",
    "print(f\"{tplC = }\\t{type(tplC) = }\")"
   ]
  },
  {
   "cell_type": "code",
   "execution_count": null,
   "id": "2d77eb17",
   "metadata": {},
   "outputs": [],
   "source": [
    "# Mapping\n",
    "dct = {\n",
    "    \"a\": 1234,\n",
    "    \"b\": 5678,\n",
    "    \"c\": 9012\n",
    "} # Without casting\n",
    "dctC = dict(\n",
    "    a=1234,\n",
    "    b=5678,\n",
    "    c=9012\n",
    ") # With casting\n",
    "\n",
    "print(f\"{dct = }\\n{type(dct) = }\\n\")\n",
    "print(f\"{dctC = }\\n{type(dctC) = }\")"
   ]
  },
  {
   "cell_type": "code",
   "execution_count": null,
   "id": "2fb20c66",
   "metadata": {},
   "outputs": [],
   "source": [
    "# Set\n",
    "st = {\n",
    "    \"Euler\",\n",
    "    \"Newton\",\n",
    "    \"Archimedes\"\n",
    "} # Without casting\n",
    "stC = set((\n",
    "    \"Euler\",\n",
    "    \"Newton\",\n",
    "    \"Archimedes\"\n",
    ")) # With casting\n",
    "\n",
    "print(f\"{st = }\\t{type(st) = }\")\n",
    "print(f\"{stC = }\\t{type(stC) = }\\n\")\n",
    "\n",
    "# Frozenset\n",
    "frznst = frozenset({\n",
    "    \"Pythagoras von Samos\",\n",
    "    \"Brook Taylor\",\n",
    "    \"Carl Friedrich Gauss\"\n",
    "    }) # Already a casting product\n",
    "\n",
    "print(f\"{frznst = }\\t{type(frznst) = }\")"
   ]
  },
  {
   "cell_type": "code",
   "execution_count": null,
   "id": "a43b3f38",
   "metadata": {},
   "outputs": [],
   "source": [
    "# Boolean\n",
    "bln = True # Without casting\n",
    "blnC = bool(5) # With casting\n",
    "blnC1 = bool(1) # bigger than 0 is True\n",
    "blnC2 = bool(0) # 0 -> False\n",
    "\n",
    "print(f\"{bln = }\\t{type(bln) = }\")\n",
    "print(f\"{blnC = }\\t{type(blnC) = }\")\n",
    "print(f\"{blnC1 = }\\t{type(blnC1) = }\")\n",
    "print(f\"{blnC2 = }\\t{type(blnC2) = }\")"
   ]
  },
  {
   "cell_type": "markdown",
   "id": "da5bb7d5",
   "metadata": {},
   "source": [
    "\"Unicode Transformation Format – 8-bit\""
   ]
  },
  {
   "cell_type": "code",
   "execution_count": null,
   "id": "c9971909",
   "metadata": {},
   "outputs": [],
   "source": [
    "# Binary\n",
    "bt = b\"ehemAushilfskassierer\" # Without casting\n",
    "btC = bytes(\"ehemAushilfskassierer\", \"utf-8\") # With casting\n",
    "\n",
    "print(f\"{bt = }\\t{type(bt) = }\")\n",
    "print(f\"{btC = }\\t{type(btC) = }\\n\")\n",
    "\n",
    "# Bytearray\n",
    "bytrry = bytearray(3) # Already a casting product\n",
    "\n",
    "print(f\"{bytrry = }\\t{type(bytrry) = }\\n\")\n",
    "\n",
    "# Memoryview\n",
    "mmryvw = memoryview(bytes(8)) # Already a casting product\n",
    "\n",
    "print(f\"{mmryvw = }\\t{type(mmryvw) = }\")"
   ]
  },
  {
   "cell_type": "markdown",
   "id": "49ada22e",
   "metadata": {},
   "source": [
    "<div style=\"text-align: center;\">\n",
    "  <a href=\"https://en.wikipedia.org/wiki/Guido_van_Rossum\" target=\"_blank\">\n",
    "    <img src=\"../images/Guido_van_Rossum_OSCON_2006.jpg\" alt=\"Guido van Rossum\" style=\"max-width: 200px;\">\n",
    "  </a>\n",
    "</div>"
   ]
  },
  {
   "cell_type": "markdown",
   "id": "f49ad118",
   "metadata": {},
   "source": [
    "<div style=\"\n",
    "    background-color:rgb(44, 158, 224); \n",
    "    color: #333; \n",
    "    padding: 15px; \n",
    "    border-radius: 10px; \n",
    "    text-align: center; \n",
    "    font-size: 18px; \n",
    "    font-weight: bold;\n",
    "    box-shadow: 3px 3px 10px rgba(0, 0, 0, 0.1);\">\n",
    "    🔗  Connect with me:  \n",
    "    <br><br>\n",
    "    📌 <a href=\"https://www.linkedin.com/in/jan-eric-keller\" target=\"_blank\" style=\"color:rgb(127, 181, 0); text-decoration: none; font-weight: bold;\">LinkedIn</a>  \n",
    "    <br>\n",
    "    📊 <a href=\"https://www.kaggle.com/whatthedatahastotell\" target=\"_blank\" style=\"color:rgb(88, 255, 32); text-decoration: none; font-weight: bold;\">Kaggle</a>  \n",
    "    <br>\n",
    "    🎥 <a href=\"https://www.youtube.com/@ehemAushilfskassierer\" target=\"_blank\" style=\"color: #ff0000; text-decoration: none; font-weight: bold;\">YouTube</a>  \n",
    "    <br>\n",
    "    📸 <a href=\"https://www.instagram.com/ehem.aushilfskassierer/\" target=\"_blank\" style=\"color: #e1306c; text-decoration: none; font-weight: bold;\">Instagram</a>  \n",
    "    <br>\n",
    "    🎵 <a href=\"https://www.tiktok.com/@ehem.aushilfskassierer\" target=\"_blank\" style=\"color: #000000; text-decoration: none; font-weight: bold;\">TikTok</a>  \n",
    "    <br>\n",
    "    💻 <a href=\"https://github.com/ehemAushilfskassierer\" target=\"_blank\" style=\"color: #333; text-decoration: none; font-weight: bold;\">GitHub</a>  \n",
    "    <br><br>\n",
    "    🚀 If you found this helpful, leave an <span style=\"color: #ff5b33;\">⭐ upvote</span>!  \n",
    "    <br>\n",
    "    💬 Let me know in the comments what you liked or what could be improved!  \n",
    "</div>\n"
   ]
  }
 ],
 "metadata": {
  "kernelspec": {
   "display_name": "Python 3",
   "language": "python",
   "name": "python3"
  },
  "language_info": {
   "codemirror_mode": {
    "name": "ipython",
    "version": 3
   },
   "file_extension": ".py",
   "mimetype": "text/x-python",
   "name": "python",
   "nbconvert_exporter": "python",
   "pygments_lexer": "ipython3",
   "version": "3.13.2"
  }
 },
 "nbformat": 4,
 "nbformat_minor": 5
}
