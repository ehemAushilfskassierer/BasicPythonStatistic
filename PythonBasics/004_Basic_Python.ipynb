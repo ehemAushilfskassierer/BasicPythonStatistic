{
 "cells": [
  {
   "cell_type": "markdown",
   "id": "e3cce910",
   "metadata": {},
   "source": [
    "<div style=\"\n",
    "    background-color:rgb(44, 158, 224); \n",
    "    color: #333; \n",
    "    padding: 15px; \n",
    "    border-radius: 10px; \n",
    "    text-align: center; \n",
    "    font-size: 24px; \n",
    "    font-weight: bold;\n",
    "    box-shadow: 3px 3px 10px rgba(0, 0, 0, 0.1);\">\n",
    "    🧠 Basic Python and Statistic 🔢\n",
    "</div>"
   ]
  },
  {
   "cell_type": "markdown",
   "id": "54945164",
   "metadata": {},
   "source": [
    "## Python Basics 4\n",
    "\n",
    "### Operators\n",
    "Programming is one of those places where a variable can be themself and more.\n",
    "\n",
    "**Classic math:**  \n",
    "$a = a$  \n",
    "$a + 1 = a + 1$  \n",
    "We need to add one on both sids of the equal sign.\n",
    "\n",
    "**Programming:**  \n",
    "$b = 9$  \n",
    "$b = b + 1 $ that means $b = 9 + 1$ because we defined $b = 9$.  \n",
    "Now we have $b = 10$. Amazing.\n",
    "\n",
    "[w3schools](https://www.w3schools.com/python/python_operators.asp)  "
   ]
  },
  {
   "cell_type": "markdown",
   "id": "69e56534",
   "metadata": {},
   "source": [
    "**Different type of operators:**\n",
    "- Arithmetic Operators\n",
    "- Assignment Operators\n",
    "- Comparison Operators\n",
    "- Logical Operators\n",
    "- Identity Operators\n",
    "- Membership Operators\n",
    "- and some more."
   ]
  },
  {
   "cell_type": "markdown",
   "id": "a52159b7",
   "metadata": {},
   "source": [
    "#### Arithmetic and assignment operators\n",
    "\n",
    "**Arithmetic operators:**  \n",
    "Perform common mathematical operations.\n",
    "\n",
    "**Assignment operators:**  \n",
    "Perform common mathematicial operations and assign them to a variable (`=`)."
   ]
  },
  {
   "cell_type": "code",
   "execution_count": 1,
   "id": "0c21cf4a",
   "metadata": {},
   "outputs": [],
   "source": [
    "# Assign the first value to x and y\n",
    "x = 1\n",
    "y = 2"
   ]
  },
  {
   "cell_type": "code",
   "execution_count": 2,
   "id": "c54fd126",
   "metadata": {},
   "outputs": [
    {
     "name": "stdout",
     "output_type": "stream",
     "text": [
      "x + y = 3\n",
      "zAdd = 3\n"
     ]
    }
   ],
   "source": [
    "# Addition\n",
    "print(f\"{x + y = }\")  # Arithmetic +\n",
    "zAdd = x\n",
    "zAdd += y  # Assignment operator: zAdd = 1 + 2 = 3\n",
    "print(f\"{zAdd = }\")"
   ]
  },
  {
   "cell_type": "code",
   "execution_count": 4,
   "id": "8d4e2f68",
   "metadata": {},
   "outputs": [
    {
     "name": "stdout",
     "output_type": "stream",
     "text": [
      "x - y = -1\n",
      "zSub = -1\n"
     ]
    }
   ],
   "source": [
    "# Subtraction\n",
    "print(f\"{x - y = }\")  # Arithmetic -\n",
    "zSub = x\n",
    "zSub -= y  # Assignment operator: zSub = 1 - 2 = -1\n",
    "print(f\"{zSub = }\")"
   ]
  },
  {
   "cell_type": "code",
   "execution_count": 5,
   "id": "69ab064b",
   "metadata": {},
   "outputs": [
    {
     "name": "stdout",
     "output_type": "stream",
     "text": [
      "x * y = 2\n",
      "zMul = 2\n"
     ]
    }
   ],
   "source": [
    "# Multiplication\n",
    "print(f\"{x * y = }\")  # Arithmetic *\n",
    "zMul = x\n",
    "zMul *= y  # Assignment operator: zMul = 1 * 2 = 2\n",
    "print(f\"{zMul = }\")"
   ]
  },
  {
   "cell_type": "code",
   "execution_count": 6,
   "id": "5061bf29",
   "metadata": {},
   "outputs": [
    {
     "name": "stdout",
     "output_type": "stream",
     "text": [
      "x / y = 0.5\n",
      "zDiv = 0.5\n"
     ]
    }
   ],
   "source": [
    "# Division\n",
    "print(f\"{x / y = }\")  # Arithmetic /\n",
    "zDiv = x\n",
    "zDiv /= y  # Assignment operator: zDiv = 1 / 2 = 0.5\n",
    "print(f\"{zDiv = }\")"
   ]
  },
  {
   "cell_type": "code",
   "execution_count": 7,
   "id": "ca56c83f",
   "metadata": {},
   "outputs": [
    {
     "name": "stdout",
     "output_type": "stream",
     "text": [
      "x // y = 0\n",
      "zFloordiv = 0\n"
     ]
    }
   ],
   "source": [
    "# Floor Division\n",
    "print(f\"{x // y = }\")  # Floor division //\n",
    "zFloordiv = x\n",
    "zFloordiv //= y  # Assignment operator: zFloordiv = 1 // 2 = 0\n",
    "print(f\"{zFloordiv = }\")"
   ]
  },
  {
   "cell_type": "code",
   "execution_count": 8,
   "id": "922b8d02",
   "metadata": {},
   "outputs": [
    {
     "name": "stdout",
     "output_type": "stream",
     "text": [
      "x % y = 1\n",
      "zMod = 1\n"
     ]
    }
   ],
   "source": [
    "# Modulo (Remainder of division)\n",
    "print(f\"{x % y = }\")  # Modulo %\n",
    "zMod = x\n",
    "zMod %= y  # Assignment operator: zMod = 1 % 2 = 1\n",
    "print(f\"{zMod = }\")"
   ]
  },
  {
   "cell_type": "code",
   "execution_count": 9,
   "id": "eec20608",
   "metadata": {},
   "outputs": [
    {
     "name": "stdout",
     "output_type": "stream",
     "text": [
      "x ** y = 1\n",
      "zPow = 1\n"
     ]
    }
   ],
   "source": [
    "# Exponentiation\n",
    "print(f\"{x ** y = }\")  # Exponentiation **\n",
    "zPow = x\n",
    "zPow **= y  # Assignment operator: zPow = 1 ** 2 = 1\n",
    "print(f\"{zPow = }\")"
   ]
  },
  {
   "cell_type": "markdown",
   "id": "8a642eba",
   "metadata": {},
   "source": [
    "#### Comparison and Logical operators\n",
    "\n",
    "**Comparison operators:**\n",
    "Use two variable and compare them. Do they have the same value? Is one bigger than the other? And so on.\n",
    "\n",
    "**Logical operators:**\n",
    "Add two or more conditional statements togheter."
   ]
  },
  {
   "cell_type": "code",
   "execution_count": 10,
   "id": "3f39d9cf",
   "metadata": {},
   "outputs": [],
   "source": [
    "a = 999\n",
    "b = a"
   ]
  },
  {
   "cell_type": "code",
   "execution_count": 11,
   "id": "4416f514",
   "metadata": {},
   "outputs": [],
   "source": [
    "d = True\n",
    "e = False"
   ]
  },
  {
   "cell_type": "code",
   "execution_count": 12,
   "id": "19683247",
   "metadata": {},
   "outputs": [
    {
     "name": "stdout",
     "output_type": "stream",
     "text": [
      "a == b = True\n",
      "d == e = False\n"
     ]
    }
   ],
   "source": [
    "# Equal: ==\n",
    "print(f\"{a == b = }\")\n",
    "print(f\"{d == e = }\")"
   ]
  },
  {
   "cell_type": "code",
   "execution_count": 13,
   "id": "f8f7d4a0",
   "metadata": {},
   "outputs": [
    {
     "name": "stdout",
     "output_type": "stream",
     "text": [
      "a != b = False\n",
      "d != e = True\n"
     ]
    }
   ],
   "source": [
    "# Not equal: !=\n",
    "print(f\"{a != b = }\")\n",
    "print(f\"{d != e = }\")"
   ]
  },
  {
   "cell_type": "code",
   "execution_count": 14,
   "id": "96660e42",
   "metadata": {},
   "outputs": [
    {
     "name": "stdout",
     "output_type": "stream",
     "text": [
      "a > b = False\n",
      "d > e = True\n"
     ]
    }
   ],
   "source": [
    "# Greater than: >\n",
    "print(f\"{a > b = }\")\n",
    "print(f\"{d > e = }\") # True : 1, False : 0"
   ]
  },
  {
   "cell_type": "code",
   "execution_count": 15,
   "id": "06706c2b",
   "metadata": {},
   "outputs": [
    {
     "name": "stdout",
     "output_type": "stream",
     "text": [
      "a < b = False\n",
      "d < e = False\n"
     ]
    }
   ],
   "source": [
    "# Less than: <\n",
    "print(f\"{a < b = }\")\n",
    "print(f\"{d < e = }\") # True : 1, False : 0"
   ]
  },
  {
   "cell_type": "code",
   "execution_count": 16,
   "id": "0dffd001",
   "metadata": {},
   "outputs": [
    {
     "name": "stdout",
     "output_type": "stream",
     "text": [
      "a >= b = True\n",
      "d >= e = True\n"
     ]
    }
   ],
   "source": [
    "# Greather than or equal to: >=\n",
    "print(f\"{a >= b = }\")\n",
    "print(f\"{d >= e = }\")"
   ]
  },
  {
   "cell_type": "code",
   "execution_count": 17,
   "id": "f4f6d397",
   "metadata": {},
   "outputs": [
    {
     "name": "stdout",
     "output_type": "stream",
     "text": [
      "a <= b = True\n",
      "d <= e = False\n"
     ]
    }
   ],
   "source": [
    "# Less than or equal to: <=\n",
    "print(f\"{a <= b = }\")\n",
    "print(f\"{d <= e = }\")"
   ]
  },
  {
   "cell_type": "code",
   "execution_count": 18,
   "id": "50a35915",
   "metadata": {},
   "outputs": [
    {
     "name": "stdout",
     "output_type": "stream",
     "text": [
      "d = True\n",
      "e = False\n"
     ]
    }
   ],
   "source": [
    "# Logical\n",
    "\n",
    "print(f\"{d = }\\n{e = }\") # Just to show what those were"
   ]
  },
  {
   "cell_type": "code",
   "execution_count": 19,
   "id": "d1ee9d8f",
   "metadata": {},
   "outputs": [
    {
     "name": "stdout",
     "output_type": "stream",
     "text": [
      "d and e = False\n",
      "d and not e = True\n"
     ]
    }
   ],
   "source": [
    "# Both have to be True: and\n",
    "print(f\"{d and e = }\")\n",
    "print(f\"{d and not e = }\")"
   ]
  },
  {
   "cell_type": "code",
   "execution_count": 20,
   "id": "084b76cf",
   "metadata": {},
   "outputs": [
    {
     "name": "stdout",
     "output_type": "stream",
     "text": [
      "d or e = True\n"
     ]
    }
   ],
   "source": [
    "# One have to be True: or\n",
    "print(f\"{d or e = }\")"
   ]
  },
  {
   "cell_type": "code",
   "execution_count": 21,
   "id": "b285ddf9",
   "metadata": {},
   "outputs": [
    {
     "name": "stdout",
     "output_type": "stream",
     "text": [
      "not(e) = True\n"
     ]
    }
   ],
   "source": [
    "# Reverse the result: not\n",
    "print(f\"{not(e) = }\")"
   ]
  },
  {
   "cell_type": "markdown",
   "id": "e5662dfe",
   "metadata": {},
   "source": [
    "#### Identity and Membership operators\n",
    "\n",
    "**Identity operators:**\n",
    "Check if two objects are the same, with the same memory location.\n",
    "\n",
    "**Membership operators:**\n",
    "Check if something is in a object."
   ]
  },
  {
   "cell_type": "code",
   "execution_count": 22,
   "id": "816adc1b",
   "metadata": {},
   "outputs": [],
   "source": [
    "var1 = 12\n",
    "var2 = 12\n",
    "var3 = 13"
   ]
  },
  {
   "cell_type": "code",
   "execution_count": 23,
   "id": "8c33c03f",
   "metadata": {},
   "outputs": [
    {
     "name": "stdout",
     "output_type": "stream",
     "text": [
      "var1 is var2 = True\n",
      "var1 is var3 = False\n"
     ]
    }
   ],
   "source": [
    "# Identity\n",
    "# Both are the same object: is\n",
    "print(f\"{var1 is var2 = }\")\n",
    "print(f\"{var1 is var3 = }\")"
   ]
  },
  {
   "cell_type": "code",
   "execution_count": 24,
   "id": "2df3253e",
   "metadata": {},
   "outputs": [
    {
     "name": "stdout",
     "output_type": "stream",
     "text": [
      "var1 is not var2 = False\n",
      "var1 is not var3 = True\n"
     ]
    }
   ],
   "source": [
    "# Both are not the same: is not\n",
    "print(f\"{var1 is not var2 = }\")\n",
    "print(f\"{var1 is not var3 = }\")"
   ]
  },
  {
   "cell_type": "code",
   "execution_count": 25,
   "id": "8f157f3f",
   "metadata": {},
   "outputs": [],
   "source": [
    "lst = [0, 1, 2, 3, 4, 5, 6, 7, 8, 9]\n",
    "entry1 = 1\n",
    "entry12 = 12"
   ]
  },
  {
   "cell_type": "code",
   "execution_count": 26,
   "id": "af0603ff",
   "metadata": {},
   "outputs": [
    {
     "name": "stdout",
     "output_type": "stream",
     "text": [
      "entry1 in lst = True\n",
      "entry12 in lst = False\n"
     ]
    }
   ],
   "source": [
    "# Membership\n",
    "# Check if something is in an object\n",
    "print(f\"{entry1 in lst = }\")\n",
    "print(f\"{entry12 in lst = }\")"
   ]
  },
  {
   "cell_type": "code",
   "execution_count": 27,
   "id": "754eb5eb",
   "metadata": {},
   "outputs": [
    {
     "name": "stdout",
     "output_type": "stream",
     "text": [
      "entry1 not in lst = False\n",
      "entry12 not in lst = True\n"
     ]
    }
   ],
   "source": [
    "# Check if something is not in an object\n",
    "print(f\"{entry1 not in lst = }\")\n",
    "print(f\"{entry12 not in lst = }\")"
   ]
  },
  {
   "cell_type": "markdown",
   "id": "d25f0056",
   "metadata": {},
   "source": [
    "#### Bitwise operators\n",
    "\n",
    "Compare binary numbers.\n",
    "\n",
    "| Operation   | Ausdruck     | Binär                         | Ergebnis           |\n",
    "|-------------|--------------|-------------------------------|--------------------|\n",
    "| AND         | `x & y`      | `0101 & 0011`                 | `0001` = 1         |\n",
    "| OR          | `x \\| y`      | `0101 \\| 0011`                 | `0111` = 7         |\n",
    "| XOR         | `x ^ y`      | `0101 ^ 0011`                 | `0110` = 6         |\n",
    "| NOT         | `~x`         | `~00000101` (8 Bit)           | `11111010` = -6*   |\n",
    "| Left Shift  | `x << 2`     | `00000101 << 2`               | `00010100` = 20    |\n",
    "| Right Shift | `x >> 2`     | `00000101 >> 2`               | `00000001` = 1     |\n"
   ]
  },
  {
   "cell_type": "markdown",
   "id": "7df37f47",
   "metadata": {},
   "source": [
    "| Decimal | Binary (4 Bit) |\n",
    "|---------|---------------|\n",
    "| 0       | 0000          |\n",
    "| 1       | 0001          |\n",
    "| 2       | 0010          |\n",
    "| 3       | 0011          |\n",
    "| 4       | 0100          |\n",
    "| 5       | 0101          |\n",
    "| 6       | 0110          |\n",
    "| 7       | 0111          |\n",
    "| 8       | 1000          |\n",
    "| 9       | 1001          |\n",
    "| 10      | 1010          |"
   ]
  },
  {
   "cell_type": "code",
   "execution_count": 28,
   "id": "b5ba19b2",
   "metadata": {},
   "outputs": [],
   "source": [
    "bitX = 5   # Binary: 0101\n",
    "bitY = 3   # Binary: 0011"
   ]
  },
  {
   "cell_type": "markdown",
   "id": "cc2e799f",
   "metadata": {},
   "source": [
    "The result bit is only 1 if both bits are 1.  \n",
    "→ 0101 & 0011 = 0001 (only the last bit is 1)"
   ]
  },
  {
   "cell_type": "code",
   "execution_count": 29,
   "id": "49ef6081",
   "metadata": {},
   "outputs": [
    {
     "name": "stdout",
     "output_type": "stream",
     "text": [
      "bitX & bitY = 1\n"
     ]
    }
   ],
   "source": [
    "# Bitwise AND\n",
    "print(f\"{bitX & bitY = }\")  # 0101 & 0011 = 0001 → 1"
   ]
  },
  {
   "cell_type": "markdown",
   "id": "00ba052d",
   "metadata": {},
   "source": [
    "If at least one bit is 1, the result bit becomes 1.  \n",
    "→ 0101 | 0011 = 0111"
   ]
  },
  {
   "cell_type": "code",
   "execution_count": 30,
   "id": "bce601dc",
   "metadata": {},
   "outputs": [
    {
     "name": "stdout",
     "output_type": "stream",
     "text": [
      "bitX | bitY = 7\n"
     ]
    }
   ],
   "source": [
    "# Bitwise OR\n",
    "print(f\"{bitX | bitY = }\")  # 0101 | 0011 = 0111 → 7"
   ]
  },
  {
   "cell_type": "markdown",
   "id": "12d9dd84",
   "metadata": {},
   "source": [
    "If bits are different, the result bit becomes 1.  \n",
    "→ 0101 ^ 0011 = 0110"
   ]
  },
  {
   "cell_type": "code",
   "execution_count": 31,
   "id": "9196d4f1",
   "metadata": {},
   "outputs": [
    {
     "name": "stdout",
     "output_type": "stream",
     "text": [
      "bitX ^ bitY = 6\n"
     ]
    }
   ],
   "source": [
    "# Bitwise XOR\n",
    "print(f\"{bitX ^ bitY = }\")  # 0101 ^ 0011 = 0110 → 6"
   ]
  },
  {
   "cell_type": "markdown",
   "id": "b10f7129",
   "metadata": {},
   "source": [
    "Inverts each bit. In 8-bit number: 00000101 → 11111010.  \n",
    "In two's complement: 11111010 = -6"
   ]
  },
  {
   "cell_type": "code",
   "execution_count": 32,
   "id": "11b01bfe",
   "metadata": {},
   "outputs": [
    {
     "name": "stdout",
     "output_type": "stream",
     "text": [
      "~bitX = -6\n"
     ]
    }
   ],
   "source": [
    "# Bitwise NOT\n",
    "print(f\"{~bitX = }\")  # ~0101 = 1010 (in 2's complement: -6)"
   ]
  },
  {
   "cell_type": "markdown",
   "id": "de77edf8",
   "metadata": {},
   "source": [
    "Shifts the bits to the left (fills with 0), multiplies by $2^n$.  \n",
    "→ 5 << 2 = 20"
   ]
  },
  {
   "cell_type": "code",
   "execution_count": 33,
   "id": "b050a1df",
   "metadata": {},
   "outputs": [
    {
     "name": "stdout",
     "output_type": "stream",
     "text": [
      "bitX << 2 = 20\n",
      "\n"
     ]
    }
   ],
   "source": [
    "# Left shift\n",
    "print(f\"{bitX << 2 = }\\n\") # 0101 << 2 = 010100 → 20"
   ]
  },
  {
   "cell_type": "markdown",
   "id": "b768f2aa",
   "metadata": {},
   "source": [
    "Shifts the bits to the right, divides by $2^n$ (integer).  \n",
    "→ 5 >> 2 = 1"
   ]
  },
  {
   "cell_type": "code",
   "execution_count": 34,
   "id": "e6dec823",
   "metadata": {},
   "outputs": [
    {
     "name": "stdout",
     "output_type": "stream",
     "text": [
      "bitX >> 2 = 1\n"
     ]
    }
   ],
   "source": [
    "# Right shift\n",
    "print(f\"{bitX >> 2 = }\") # 0101 >> 2 = 0001 → 1"
   ]
  },
  {
   "cell_type": "markdown",
   "id": "bbdf2820",
   "metadata": {},
   "source": [
    "<div style=\"text-align: center;\">\n",
    "  <a href=\"https://en.wikipedia.org/wiki/Guido_van_Rossum\" target=\"_blank\">\n",
    "    <img src=\"../images/Guido_van_Rossum_OSCON_2006.jpg\" alt=\"Guido van Rossum\" style=\"max-width: 200px;\">\n",
    "  </a>\n",
    "</div>"
   ]
  },
  {
   "cell_type": "markdown",
   "id": "f49ad118",
   "metadata": {},
   "source": [
    "<div style=\"\n",
    "    background-color:rgb(44, 158, 224); \n",
    "    color: #333; \n",
    "    padding: 15px; \n",
    "    border-radius: 10px; \n",
    "    text-align: center; \n",
    "    font-size: 18px; \n",
    "    font-weight: bold;\n",
    "    box-shadow: 3px 3px 10px rgba(0, 0, 0, 0.1);\">\n",
    "    🔗  Connect with me:  \n",
    "    <br><br>\n",
    "    📌 <a href=\"https://www.linkedin.com/in/jan-eric-keller\" target=\"_blank\" style=\"color:rgb(127, 181, 0); text-decoration: none; font-weight: bold;\">LinkedIn</a>  \n",
    "    <br>\n",
    "    📊 <a href=\"https://www.kaggle.com/whatthedatahastotell\" target=\"_blank\" style=\"color:rgb(88, 255, 32); text-decoration: none; font-weight: bold;\">Kaggle</a>  \n",
    "    <br>\n",
    "    🎥 <a href=\"https://www.youtube.com/@ehemAushilfskassierer\" target=\"_blank\" style=\"color: #ff0000; text-decoration: none; font-weight: bold;\">YouTube</a>  \n",
    "    <br>\n",
    "    📸 <a href=\"https://www.instagram.com/ehem.aushilfskassierer/\" target=\"_blank\" style=\"color: #e1306c; text-decoration: none; font-weight: bold;\">Instagram</a>  \n",
    "    <br>\n",
    "    🎵 <a href=\"https://www.tiktok.com/@ehem.aushilfskassierer\" target=\"_blank\" style=\"color: #000000; text-decoration: none; font-weight: bold;\">TikTok</a>  \n",
    "    <br>\n",
    "    💻 <a href=\"https://github.com/ehemAushilfskassierer\" target=\"_blank\" style=\"color: #333; text-decoration: none; font-weight: bold;\">GitHub</a>  \n",
    "    <br><br>\n",
    "    🚀 If you found this helpful, leave an <span style=\"color: #ff5b33;\">⭐ upvote</span>!  \n",
    "    <br>\n",
    "    💬 Let me know in the comments what you liked or what could be improved!  \n",
    "</div>\n"
   ]
  },
  {
   "cell_type": "markdown",
   "id": "d2acf8b4",
   "metadata": {},
   "source": []
  }
 ],
 "metadata": {
  "kernelspec": {
   "display_name": "Python 3",
   "language": "python",
   "name": "python3"
  },
  "language_info": {
   "codemirror_mode": {
    "name": "ipython",
    "version": 3
   },
   "file_extension": ".py",
   "mimetype": "text/x-python",
   "name": "python",
   "nbconvert_exporter": "python",
   "pygments_lexer": "ipython3",
   "version": "3.13.2"
  }
 },
 "nbformat": 4,
 "nbformat_minor": 5
}
