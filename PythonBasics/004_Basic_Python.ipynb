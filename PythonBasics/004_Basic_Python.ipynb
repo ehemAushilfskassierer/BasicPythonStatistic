{
 "cells": [
  {
   "cell_type": "markdown",
   "id": "e3cce910",
   "metadata": {},
   "source": [
    "<div style=\"\n",
    "    background-color:rgb(44, 158, 224); \n",
    "    color: #333; \n",
    "    padding: 15px; \n",
    "    border-radius: 10px; \n",
    "    text-align: center; \n",
    "    font-size: 24px; \n",
    "    font-weight: bold;\n",
    "    box-shadow: 3px 3px 10px rgba(0, 0, 0, 0.1);\">\n",
    "    🧠 Basic Python and Statistik: Crack math and programming problems! 🔢\n",
    "</div>"
   ]
  },
  {
   "cell_type": "markdown",
   "id": "54945164",
   "metadata": {},
   "source": [
    "## Python Basics 4\n",
    "\n",
    "### Operators\n",
    "Programming is one of those places where a variable can be themself and more.\n",
    "\n",
    "**Classic math:**  \n",
    "$a = a$  \n",
    "$a + 1 = a + 1$  \n",
    "We need to add one on both sids of the equal sign.\n",
    "\n",
    "**Programming:**  \n",
    "$b = 9$  \n",
    "$b = b + 1 $ that means $b = 9 + 1$ because we defined $b = 9$.  \n",
    "Now we have $b = 10$. Amazing.\n",
    "\n",
    "<div>\n",
    "    <img src=\"../images/Equal_Math_coding.jpeg\" alt=\"Equal Math Coding Meme\" style=\"max-width: 400px;\">\n",
    "</div>\n",
    "\n",
    "[w3schools](https://www.w3schools.com/python/python_operators.asp)  "
   ]
  },
  {
   "cell_type": "markdown",
   "id": "69e56534",
   "metadata": {},
   "source": [
    "**Different type of operators:**\n",
    "- Arithmetic Operators\n",
    "- Assignment Operators\n",
    "- Comparison Operators\n",
    "- Logical Operators\n",
    "- Identity Operators\n",
    "- Membership Operators\n",
    "- and some more."
   ]
  },
  {
   "cell_type": "markdown",
   "id": "a52159b7",
   "metadata": {},
   "source": [
    "#### Arithmetic and assignment operators\n",
    "\n",
    "**Arithmetic operators:**  \n",
    "Perform common mathematical operations.\n",
    "\n",
    "**Assignment operators:**  \n",
    "Perform common mathematicial operations and assign them to a variable (`=`)."
   ]
  },
  {
   "cell_type": "code",
   "execution_count": 6,
   "id": "6175a3e6",
   "metadata": {},
   "outputs": [
    {
     "name": "stdout",
     "output_type": "stream",
     "text": [
      "x + y = 3\n",
      "zAdd = 3\n",
      "\n",
      "x - y = -1\n",
      "zSub = -1\n",
      "\n",
      "x * y = 2\n",
      "zMul = 2\n",
      "\n",
      "x / y = 0.5\n",
      "zDiv = 0.5\n",
      "\n",
      "x // y = 0\n",
      "zFloordiv = 0\n",
      "\n",
      "x % y = 1\n",
      "zMod = 1\n",
      "\n",
      "x ** y = 1\n",
      "zPow = 1\n"
     ]
    }
   ],
   "source": [
    "x = 1\n",
    "y = 2\n",
    "\n",
    "# Addition\n",
    "print(f\"{x + y = }\")  # Arithmetic +\n",
    "zAdd = x\n",
    "zAdd += y  # Assignment operator: zAdd = 1 + 2 = 3\n",
    "print(f\"{zAdd = }\")\n",
    "print()\n",
    "\n",
    "# Subtraction\n",
    "print(f\"{x - y = }\")  # Arithmetic -\n",
    "zSub = x\n",
    "zSub -= y  # Assignment operator: zSub = 1 - 2 = -1\n",
    "print(f\"{zSub = }\")\n",
    "print()\n",
    "\n",
    "# Multiplication\n",
    "print(f\"{x * y = }\")  # Arithmetic *\n",
    "zMul = x\n",
    "zMul *= y  # Assignment operator: zMul = 1 * 2 = 2\n",
    "print(f\"{zMul = }\")\n",
    "print()\n",
    "\n",
    "# Division\n",
    "print(f\"{x / y = }\")  # Arithmetic /\n",
    "zDiv = x\n",
    "zDiv /= y  # Assignment operator: zDiv = 1 / 2 = 0.5\n",
    "print(f\"{zDiv = }\")\n",
    "print()\n",
    "\n",
    "# Floor Division\n",
    "print(f\"{x // y = }\")  # Floor division //\n",
    "zFloordiv = x\n",
    "zFloordiv //= y  # Assignment operator: zFloordiv = 1 // 2 = 0\n",
    "print(f\"{zFloordiv = }\")\n",
    "print()\n",
    "\n",
    "# Modulo (Remainder of division)\n",
    "print(f\"{x % y = }\")  # Modulo %\n",
    "zMod = x\n",
    "zMod %= y  # Assignment operator: zMod = 1 % 2 = 1\n",
    "print(f\"{zMod = }\")\n",
    "print()\n",
    "\n",
    "# Exponentiation\n",
    "print(f\"{x ** y = }\")  # Exponentiation **\n",
    "zPow = x\n",
    "zPow **= y  # Assignment operator: zPow = 1 ** 2 = 1\n",
    "print(f\"{zPow = }\")"
   ]
  },
  {
   "cell_type": "markdown",
   "id": "0c74be2f",
   "metadata": {},
   "source": [
    "#### Comparison and Logical operators\n",
    "\n",
    "**Comparison operators:**\n",
    "Use two variable and compare them. Do they have the same value? Is one bigger than the other? And so on.\n",
    "\n",
    "**Logical operators:**\n",
    "Add two or more conditional statements togheter."
   ]
  },
  {
   "cell_type": "code",
   "execution_count": 7,
   "id": "a3598215",
   "metadata": {},
   "outputs": [
    {
     "name": "stdout",
     "output_type": "stream",
     "text": [
      "a == b = True\n",
      "d == e = False\n",
      "\n",
      "a != b = False\n",
      "d != e = True\n",
      "\n",
      "a > b = False\n",
      "d > e = True\n",
      "\n",
      "a < b = False\n",
      "d < e = False\n",
      "\n",
      "a >= b = True\n",
      "d >= e = True\n",
      "\n",
      "a <= b = True\n",
      "d <= e = False\n",
      "\n"
     ]
    }
   ],
   "source": [
    "a = 999\n",
    "b = a\n",
    "\n",
    "d = True\n",
    "e = False\n",
    "\n",
    "# Comparison\n",
    "# Equal: ==\n",
    "print(f\"{a == b = }\")\n",
    "print(f\"{d == e = }\\n\")\n",
    "\n",
    "# Not equal: !=\n",
    "print(f\"{a != b = }\")\n",
    "print(f\"{d != e = }\\n\")\n",
    "\n",
    "# Greater than: >\n",
    "print(f\"{a > b = }\")\n",
    "print(f\"{d > e = }\\n\")\n",
    "\n",
    "# Less than: <\n",
    "print(f\"{a < b = }\")\n",
    "print(f\"{d < e = }\\n\")\n",
    "\n",
    "# Greather than or equal to: >=\n",
    "print(f\"{a >= b = }\")\n",
    "print(f\"{d >= e = }\\n\")\n",
    "\n",
    "# Less than or equal to: <=\n",
    "print(f\"{a <= b = }\")\n",
    "print(f\"{d <= e = }\\n\")"
   ]
  },
  {
   "cell_type": "code",
   "execution_count": 18,
   "id": "2d2d78e9",
   "metadata": {},
   "outputs": [
    {
     "name": "stdout",
     "output_type": "stream",
     "text": [
      "d = True\n",
      "e = False\n",
      "\n",
      "d and e = False\n",
      "d and not e = True\n",
      "\n",
      "d or e = True\n",
      "\n",
      "not(e) = True\n"
     ]
    }
   ],
   "source": [
    "print(f\"{d = }\\n{e = }\\n\")\n",
    "\n",
    "# Logical\n",
    "# Both have to be True: and\n",
    "print(f\"{d and e = }\")\n",
    "print(f\"{d and not e = }\\n\")\n",
    "\n",
    "# One have to be True: or\n",
    "print(f\"{d or e = }\\n\")\n",
    "\n",
    "# Reverse the result: not\n",
    "print(f\"{not(e) = }\")"
   ]
  },
  {
   "cell_type": "markdown",
   "id": "325c489f",
   "metadata": {},
   "source": [
    "#### Identity and Membership operators\n",
    "\n",
    "**Identity operators:**\n",
    "Check if two objects are the same, with the same memory location.\n",
    "\n",
    "**Membership operators:**\n",
    "Check if something is in a object."
   ]
  },
  {
   "cell_type": "code",
   "execution_count": 21,
   "id": "9c7c9458",
   "metadata": {},
   "outputs": [
    {
     "name": "stdout",
     "output_type": "stream",
     "text": [
      "var1 is var2 = True\n",
      "var1 is var3 = False\n",
      "\n",
      "var1 is not var2 = False\n",
      "var1 is not var3 = True\n",
      "\n"
     ]
    }
   ],
   "source": [
    "var1 = 12\n",
    "var2 = 12\n",
    "var3 = 13\n",
    "\n",
    "# Identity\n",
    "# Both are the same object: is\n",
    "print(f\"{var1 is var2 = }\")\n",
    "print(f\"{var1 is var3 = }\\n\")\n",
    "\n",
    "# Both are not the same: is not\n",
    "print(f\"{var1 is not var2 = }\")\n",
    "print(f\"{var1 is not var3 = }\\n\")\n"
   ]
  },
  {
   "cell_type": "code",
   "execution_count": 24,
   "id": "698d5945",
   "metadata": {},
   "outputs": [
    {
     "name": "stdout",
     "output_type": "stream",
     "text": [
      "entry1 in lst = True\n",
      "entry12 in lst = False\n",
      "\n",
      "entry1 not in lst = False\n",
      "entry12 not in lst = True\n"
     ]
    }
   ],
   "source": [
    "lst = [0, 1, 2, 3, 4, 5, 6, 7, 8, 9]\n",
    "entry1 = 1\n",
    "entry12 = 12\n",
    "\n",
    "# Membership\n",
    "# Check if something is in an object\n",
    "print(f\"{entry1 in lst = }\")\n",
    "print(f\"{entry12 in lst = }\\n\")\n",
    "\n",
    "# Check if something is not in an object\n",
    "print(f\"{entry1 not in lst = }\")\n",
    "print(f\"{entry12 not in lst = }\")"
   ]
  },
  {
   "cell_type": "markdown",
   "id": "77a73425",
   "metadata": {},
   "source": [
    "#### Bitwise operators\n",
    "\n",
    "Compare binary numbers.\n",
    "\n",
    "| Operation   | Expression | Binary          | Result          |        |            |\n",
    "| ----------- | ---------- | --------------- | --------------- | ------ | ---------- |\n",
    "| AND         | `x & y`    | `0101 & 0011`   | `0001` = 1      |        |            |\n",
    "| OR          | \\`x        | y\\`             | \\`0101          | 0011\\` | `0111` = 7 |\n",
    "| XOR         | `x ^ y`    | `0101 ^ 0011`   | `0110` = 6      |        |            |\n",
    "| NOT         | `~x`       | `~00000101`     | `11111010` = -6 |        |            |\n",
    "| Left Shift  | `x << 2`   | `00000101 << 2` | `00010100` = 20 |        |            |\n",
    "| Right Shift | `x >> 2`   | `00000101 >> 2` | `00000001` = 1  |        |            |"
   ]
  },
  {
   "cell_type": "code",
   "execution_count": null,
   "id": "d4b64e68",
   "metadata": {},
   "outputs": [
    {
     "name": "stdout",
     "output_type": "stream",
     "text": [
      "bitX & bitY = 1\n",
      "\n",
      "bitX | bitY = 7\n",
      "\n",
      "bitX ^ bitY = 6\n",
      "\n",
      "~bitX = -6\n",
      "\n",
      "bitX << 2 = 20\n",
      "\n",
      "bitX >> 2 = 1\n",
      "\n"
     ]
    }
   ],
   "source": [
    "bitX = 5   # Binary: 0101\n",
    "bitY = 3   # Binary: 0011\n",
    "\n",
    "# Bitwise AND\n",
    "print(f\"{bitX & bitY = }\\n\")  # 0101 & 0011 = 0001 → 1\n",
    "\n",
    "# Bitwise OR\n",
    "print(f\"{bitX | bitY = }\\n\")  # 0101 | 0011 = 0111 → 7\n",
    "\n",
    "# Bitwise XOR\n",
    "print(f\"{bitX ^ bitY = }\\n\")  # 0101 ^ 0011 = 0110 → 6\n",
    "\n",
    "# Bitwise NOT\n",
    "print(f\"{~bitX = }\\n\")     # ~0101 = 1010 (in 2's complement: -6)\n",
    "\n",
    "# Left shift\n",
    "print(f\"{bitX << 2 = }\\n\") # 0101 << 2 = 010100 → 20\n",
    "\n",
    "# Right shift\n",
    "print(f\"{bitX >> 2 = }\") # 0101 >> 2 = 0001 → 1\n"
   ]
  },
  {
   "cell_type": "markdown",
   "id": "bbdf2820",
   "metadata": {},
   "source": [
    "<div style=\"text-align: center;\">\n",
    "  <a href=\"https://en.wikipedia.org/wiki/Guido_van_Rossum\" target=\"_blank\">\n",
    "    <img src=\"../images/Guido_van_Rossum_OSCON_2006.jpg\" alt=\"Guido van Rossum\" style=\"max-width: 200px;\">\n",
    "  </a>\n",
    "</div>"
   ]
  },
  {
   "cell_type": "markdown",
   "id": "f49ad118",
   "metadata": {},
   "source": [
    "<div style=\"\n",
    "    background-color:rgb(44, 158, 224); \n",
    "    color: #333; \n",
    "    padding: 15px; \n",
    "    border-radius: 10px; \n",
    "    text-align: center; \n",
    "    font-size: 18px; \n",
    "    font-weight: bold;\n",
    "    box-shadow: 3px 3px 10px rgba(0, 0, 0, 0.1);\">\n",
    "    🔗  Connect with me:  \n",
    "    <br><br>\n",
    "    📌 <a href=\"https://www.linkedin.com/in/jan-eric-keller\" target=\"_blank\" style=\"color:rgb(127, 181, 0); text-decoration: none; font-weight: bold;\">LinkedIn</a>  \n",
    "    <br>\n",
    "    📊 <a href=\"https://www.kaggle.com/whatthedatahastotell\" target=\"_blank\" style=\"color:rgb(88, 255, 32); text-decoration: none; font-weight: bold;\">Kaggle</a>  \n",
    "    <br>\n",
    "    🎥 <a href=\"https://www.youtube.com/@ehemAushilfskassierer\" target=\"_blank\" style=\"color: #ff0000; text-decoration: none; font-weight: bold;\">YouTube</a>  \n",
    "    <br>\n",
    "    📸 <a href=\"https://www.instagram.com/ehem.aushilfskassierer/\" target=\"_blank\" style=\"color: #e1306c; text-decoration: none; font-weight: bold;\">Instagram</a>  \n",
    "    <br>\n",
    "    🎵 <a href=\"https://www.tiktok.com/@ehem.aushilfskassierer\" target=\"_blank\" style=\"color: #000000; text-decoration: none; font-weight: bold;\">TikTok</a>  \n",
    "    <br>\n",
    "    💻 <a href=\"https://github.com/ehemAushilfskassierer\" target=\"_blank\" style=\"color: #333; text-decoration: none; font-weight: bold;\">GitHub</a>  \n",
    "    <br><br>\n",
    "    🚀 If you found this helpful, leave an <span style=\"color: #ff5b33;\">⭐ upvote</span>!  \n",
    "    <br>\n",
    "    💬 Let me know in the comments what you liked or what could be improved!  \n",
    "</div>\n"
   ]
  },
  {
   "cell_type": "markdown",
   "id": "d2acf8b4",
   "metadata": {},
   "source": []
  }
 ],
 "metadata": {
  "kernelspec": {
   "display_name": "Python 3",
   "language": "python",
   "name": "python3"
  },
  "language_info": {
   "codemirror_mode": {
    "name": "ipython",
    "version": 3
   },
   "file_extension": ".py",
   "mimetype": "text/x-python",
   "name": "python",
   "nbconvert_exporter": "python",
   "pygments_lexer": "ipython3",
   "version": "3.13.2"
  }
 },
 "nbformat": 4,
 "nbformat_minor": 5
}
