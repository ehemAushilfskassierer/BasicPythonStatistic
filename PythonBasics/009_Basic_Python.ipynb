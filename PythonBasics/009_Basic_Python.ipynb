{
 "cells": [
  {
   "cell_type": "markdown",
   "id": "e3cce910",
   "metadata": {},
   "source": [
    "<div style=\"\n",
    "    background-color:rgb(44, 158, 224); \n",
    "    color: #333; \n",
    "    padding: 15px; \n",
    "    border-radius: 10px; \n",
    "    text-align: center; \n",
    "    font-size: 24px; \n",
    "    font-weight: bold;\n",
    "    box-shadow: 3px 3px 10px rgba(0, 0, 0, 0.1);\">\n",
    "    🧠 Basic Python and Statistic 🔢\n",
    "</div>"
   ]
  },
  {
   "cell_type": "markdown",
   "id": "54945164",
   "metadata": {},
   "source": [
    "## Python Basics 9\n",
    "\n",
    "### Functions\n",
    "\n",
    "Code only run when called.\n",
    "\n",
    "[w3schools](https://www.w3schools.com/python/python_functions.asp)  "
   ]
  },
  {
   "cell_type": "markdown",
   "id": "f12228a3",
   "metadata": {},
   "source": [
    "**def**"
   ]
  },
  {
   "cell_type": "code",
   "execution_count": null,
   "id": "efa7bfc2",
   "metadata": {},
   "outputs": [],
   "source": [
    "def printHelloWorld():\n",
    "    print(\"Hello World\")"
   ]
  },
  {
   "cell_type": "markdown",
   "id": "cc383e3f",
   "metadata": {},
   "source": [
    "**Calling the function**"
   ]
  },
  {
   "cell_type": "code",
   "execution_count": null,
   "id": "c68aeb5a",
   "metadata": {},
   "outputs": [],
   "source": [
    "printHelloWorld()"
   ]
  },
  {
   "cell_type": "markdown",
   "id": "35f1662e",
   "metadata": {},
   "source": [
    "**Arguments and Parameters**"
   ]
  },
  {
   "cell_type": "code",
   "execution_count": null,
   "id": "c7dbadd4",
   "metadata": {},
   "outputs": [],
   "source": [
    "def tellYourAge(age): # Parameter : Age\n",
    "    print(\"I'm %d years old.\" % age)"
   ]
  },
  {
   "cell_type": "code",
   "execution_count": null,
   "id": "3632d685",
   "metadata": {},
   "outputs": [],
   "source": [
    "tellYourAge(int(input(\"How old are your?\")))\n",
    "# Arguments are given to a function when called"
   ]
  },
  {
   "cell_type": "code",
   "execution_count": null,
   "id": "bee3d164",
   "metadata": {},
   "outputs": [],
   "source": [
    "tellYourAge(84)"
   ]
  },
  {
   "cell_type": "markdown",
   "id": "674fd6fb",
   "metadata": {},
   "source": [
    "**Number of arguments / parameters**"
   ]
  },
  {
   "cell_type": "code",
   "execution_count": null,
   "id": "022fabbb",
   "metadata": {},
   "outputs": [],
   "source": [
    "def calcArea(length, width):\n",
    "    return length*width"
   ]
  },
  {
   "cell_type": "code",
   "execution_count": null,
   "id": "5b135d28",
   "metadata": {},
   "outputs": [],
   "source": [
    "calcArea(12, 15)"
   ]
  },
  {
   "cell_type": "code",
   "execution_count": null,
   "id": "cb3e852d",
   "metadata": {},
   "outputs": [],
   "source": [
    "calcArea(12)"
   ]
  },
  {
   "cell_type": "markdown",
   "id": "76b2ff35",
   "metadata": {},
   "source": [
    "**Unknown amount of arguments**"
   ]
  },
  {
   "cell_type": "code",
   "execution_count": null,
   "id": "359fe0ac",
   "metadata": {},
   "outputs": [],
   "source": [
    "def howManyArgs(*args):\n",
    "    print(f\"{len(args) = }\")\n",
    "    for i in args:\n",
    "        print(i)"
   ]
  },
  {
   "cell_type": "code",
   "execution_count": null,
   "id": "b941511f",
   "metadata": {},
   "outputs": [],
   "source": [
    "howManyArgs(0, 1, 2, 3, 4, 5, 6, 7)"
   ]
  },
  {
   "cell_type": "code",
   "execution_count": null,
   "id": "a08f6b04",
   "metadata": {},
   "outputs": [],
   "source": [
    "def assignArgs(arg1, arg2, arg3):\n",
    "    print(arg1, arg2, arg3)"
   ]
  },
  {
   "cell_type": "markdown",
   "id": "b65ef641",
   "metadata": {},
   "source": [
    "Hower over the call to see what the function needs and what the output is."
   ]
  },
  {
   "cell_type": "code",
   "execution_count": null,
   "id": "d3cd538e",
   "metadata": {},
   "outputs": [],
   "source": [
    "assignArgs(arg3 = 3, arg1 = 1, arg2 = 2)"
   ]
  },
  {
   "cell_type": "markdown",
   "id": "3e9b3d2a",
   "metadata": {},
   "source": [
    "**Arbitrary Keyword Arguments, \\*\\*kwargs**"
   ]
  },
  {
   "cell_type": "code",
   "execution_count": null,
   "id": "858193e9",
   "metadata": {},
   "outputs": [],
   "source": [
    "def giveADictAsArgs(**kwargs):\n",
    "    if \"a\" in kwargs:\n",
    "        if \"b\" in kwargs:\n",
    "            return kwargs[\"a\"]*kwargs[\"b\"]\n",
    "        else:\n",
    "            return \"Missing key 'b'\"\n",
    "    return \"Missing key 'a'\""
   ]
  },
  {
   "cell_type": "code",
   "execution_count": null,
   "id": "cb7d8d51",
   "metadata": {},
   "outputs": [],
   "source": [
    "giveADictAsArgs(a = 12, b = 15)"
   ]
  },
  {
   "cell_type": "code",
   "execution_count": null,
   "id": "32665e35",
   "metadata": {},
   "outputs": [],
   "source": [
    "giveADictAsArgs(b = 15)"
   ]
  },
  {
   "cell_type": "markdown",
   "id": "cc30eb51",
   "metadata": {},
   "source": [
    "**Default parameter**"
   ]
  },
  {
   "cell_type": "code",
   "execution_count": null,
   "id": "909e4e68",
   "metadata": {},
   "outputs": [],
   "source": [
    "def sayMyName(name = \"Justin\"):\n",
    "    return f\"Hello {name}\""
   ]
  },
  {
   "cell_type": "code",
   "execution_count": null,
   "id": "a626ba62",
   "metadata": {},
   "outputs": [],
   "source": [
    "sayMyName()"
   ]
  },
  {
   "cell_type": "code",
   "execution_count": null,
   "id": "b41683ae",
   "metadata": {},
   "outputs": [],
   "source": [
    "sayMyName(\"Peter\")"
   ]
  },
  {
   "cell_type": "markdown",
   "id": "dcb5b96d",
   "metadata": {},
   "source": [
    "**Pass**"
   ]
  },
  {
   "cell_type": "code",
   "execution_count": null,
   "id": "7d64be68",
   "metadata": {},
   "outputs": [],
   "source": [
    "def not5(number = 5):\n",
    "    if number == 5:\n",
    "        pass\n",
    "    else:\n",
    "        return number"
   ]
  },
  {
   "cell_type": "code",
   "execution_count": null,
   "id": "68f5568b",
   "metadata": {},
   "outputs": [],
   "source": [
    "for i in range(10):\n",
    "    print(i, \" : \", not5(i))"
   ]
  },
  {
   "cell_type": "markdown",
   "id": "d17c4bfb",
   "metadata": {},
   "source": [
    "**Positional-Only and Keyword-Only Arguments**\n",
    "\n",
    "*Don't* allow to use *the parameter names* **before** a `, /`.\n",
    "\n",
    "*Force* someone to call the function *with the paramter names* **after** a `*,`."
   ]
  },
  {
   "cell_type": "code",
   "execution_count": null,
   "id": "15a3f341",
   "metadata": {},
   "outputs": [],
   "source": [
    "def giveMyFive(a, b, /, c, *, d, e):\n",
    "    print(a, b, c, d, e)"
   ]
  },
  {
   "cell_type": "code",
   "execution_count": null,
   "id": "b6a4187c",
   "metadata": {},
   "outputs": [],
   "source": [
    "# Correct\n",
    "giveMyFive(1, 2, c = 3, d = 4, e = 5)\n",
    "giveMyFive(1, 2, 3, d = 4, e = 5)"
   ]
  },
  {
   "cell_type": "code",
   "execution_count": null,
   "id": "0c741412",
   "metadata": {},
   "outputs": [],
   "source": [
    "# Type Error\n",
    "giveMyFive(1, 2, 3, 4, 5)"
   ]
  },
  {
   "cell_type": "code",
   "execution_count": null,
   "id": "25b2923f",
   "metadata": {},
   "outputs": [],
   "source": [
    "# Type Error\n",
    "giveMyFive(a = 1, b = 2, c = 3, d = 4, e = 5)"
   ]
  },
  {
   "cell_type": "markdown",
   "id": "97604915",
   "metadata": {},
   "source": [
    "**Recursion**\n",
    "\n",
    "A function calls itself."
   ]
  },
  {
   "cell_type": "code",
   "execution_count": null,
   "id": "4a906a7d",
   "metadata": {},
   "outputs": [],
   "source": [
    "def fibonacci_recursive(n):\n",
    "    if n <= 1:\n",
    "        return n\n",
    "    return fibonacci_recursive(n - 1) + fibonacci_recursive(n - 2)"
   ]
  },
  {
   "cell_type": "code",
   "execution_count": null,
   "id": "be4fe2b3",
   "metadata": {},
   "outputs": [],
   "source": [
    "print(fibonacci_recursive(10))"
   ]
  },
  {
   "cell_type": "markdown",
   "id": "74c2988a",
   "metadata": {},
   "source": [
    "**Define datatype and create docstring**  \n",
    "Defining datatypes in a function means specifying what type each input (argument) and output (return value) should be. This is done using type hints like name: str or age: int. It makes code easier to read and helps catch errors early.  \n",
    "\n",
    "A docstring is a string placed at the beginning of a function (or class/module) that describes what it does. It's written in triple quotes (`\"\"\"`) and explains the function’s purpose, inputs, outputs, and errors. It helps others (and yourself) understand the code."
   ]
  },
  {
   "cell_type": "code",
   "execution_count": null,
   "id": "1aecccdb",
   "metadata": {},
   "outputs": [],
   "source": [
    "def greet(name: str, age: int) -> str:\n",
    "    \"\"\"\n",
    "    Returns a greeting message including the user's name\n",
    "    and age.\n",
    "\n",
    "    Args:\n",
    "        name (str): The name of the person.\n",
    "        age (int): The age of the person.\n",
    "\n",
    "    Returns:\n",
    "        str: A greeting message.\n",
    "\n",
    "    Raises:\n",
    "        TypeError: If the inputs are not of expected types.\n",
    "    \"\"\"\n",
    "    assert isinstance(name, str), \"name must be a string\"\n",
    "    assert isinstance(age, int), \"age must be an integer\"\n",
    "\n",
    "    return f\"Hello {name}, you are {age} years old!\""
   ]
  },
  {
   "cell_type": "code",
   "execution_count": null,
   "id": "1b14d7ba",
   "metadata": {},
   "outputs": [],
   "source": [
    "greet(24, \"Peter\")"
   ]
  },
  {
   "cell_type": "code",
   "execution_count": null,
   "id": "716f3845",
   "metadata": {},
   "outputs": [],
   "source": [
    "greet(\"Peter\", \"24\")"
   ]
  },
  {
   "cell_type": "code",
   "execution_count": null,
   "id": "3d54c6d6",
   "metadata": {},
   "outputs": [],
   "source": [
    "greet(\"Peter\", 24)"
   ]
  },
  {
   "cell_type": "markdown",
   "id": "bbdf2820",
   "metadata": {},
   "source": [
    "<div style=\"text-align: center;\">\n",
    "  <a href=\"https://en.wikipedia.org/wiki/Guido_van_Rossum\" target=\"_blank\">\n",
    "    <img src=\"../images/Guido_van_Rossum_OSCON_2006.jpg\" alt=\"Guido van Rossum\" style=\"max-width: 200px;\">\n",
    "  </a>\n",
    "</div>"
   ]
  },
  {
   "cell_type": "markdown",
   "id": "f49ad118",
   "metadata": {},
   "source": [
    "<div style=\"\n",
    "    background-color:rgb(44, 158, 224); \n",
    "    color: #333; \n",
    "    padding: 15px; \n",
    "    border-radius: 10px; \n",
    "    text-align: center; \n",
    "    font-size: 18px; \n",
    "    font-weight: bold;\n",
    "    box-shadow: 3px 3px 10px rgba(0, 0, 0, 0.1);\">\n",
    "    🔗  Connect with me:  \n",
    "    <br><br>\n",
    "    📌 <a href=\"https://www.linkedin.com/in/jan-eric-keller\" target=\"_blank\" style=\"color:rgb(127, 181, 0); text-decoration: none; font-weight: bold;\">LinkedIn</a>  \n",
    "    <br>\n",
    "    📊 <a href=\"https://www.kaggle.com/whatthedatahastotell\" target=\"_blank\" style=\"color:rgb(88, 255, 32); text-decoration: none; font-weight: bold;\">Kaggle</a>  \n",
    "    <br>\n",
    "    🎥 <a href=\"https://www.youtube.com/@ehemAushilfskassierer\" target=\"_blank\" style=\"color: #ff0000; text-decoration: none; font-weight: bold;\">YouTube</a>  \n",
    "    <br>\n",
    "    📸 <a href=\"https://www.instagram.com/ehem.aushilfskassierer/\" target=\"_blank\" style=\"color: #e1306c; text-decoration: none; font-weight: bold;\">Instagram</a>  \n",
    "    <br>\n",
    "    🎵 <a href=\"https://www.tiktok.com/@ehem.aushilfskassierer\" target=\"_blank\" style=\"color: #000000; text-decoration: none; font-weight: bold;\">TikTok</a>  \n",
    "    <br>\n",
    "    💻 <a href=\"https://github.com/ehemAushilfskassierer\" target=\"_blank\" style=\"color: #333; text-decoration: none; font-weight: bold;\">GitHub</a>  \n",
    "    <br><br>\n",
    "    🚀 If you found this helpful, leave an <span style=\"color: #ff5b33;\">⭐ upvote</span>!  \n",
    "    <br>\n",
    "    💬 Let me know in the comments what you liked or what could be improved!  \n",
    "</div>\n"
   ]
  }
 ],
 "metadata": {
  "kernelspec": {
   "display_name": "Python 3",
   "language": "python",
   "name": "python3"
  },
  "language_info": {
   "codemirror_mode": {
    "name": "ipython",
    "version": 3
   },
   "file_extension": ".py",
   "mimetype": "text/x-python",
   "name": "python",
   "nbconvert_exporter": "python",
   "pygments_lexer": "ipython3",
   "version": "3.13.2"
  }
 },
 "nbformat": 4,
 "nbformat_minor": 5
}
