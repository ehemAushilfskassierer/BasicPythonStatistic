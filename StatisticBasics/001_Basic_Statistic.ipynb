{
 "cells": [
  {
   "cell_type": "markdown",
   "id": "e3cce910",
   "metadata": {},
   "source": [
    "<div style=\"\n",
    "    background-color:rgb(44, 158, 224); \n",
    "    color: #333; \n",
    "    padding: 15px; \n",
    "    border-radius: 10px; \n",
    "    text-align: center; \n",
    "    font-size: 24px; \n",
    "    font-weight: bold;\n",
    "    box-shadow: 3px 3px 10px rgba(0, 0, 0, 0.1);\">\n",
    "    🧠 Basic Python and Statistik: Crack math and programming problems! 🔢\n",
    "</div>"
   ]
  },
  {
   "cell_type": "markdown",
   "id": "54945164",
   "metadata": {},
   "source": [
    "## Python Basics 1\n",
    "\n",
    "### Data types in Python\n",
    "\n",
    "[w3schools](https://www.w3schools.com/python/python_datatypes.asp)  \n",
    "Variables can store data of different types, and different types can do different things.\n",
    "\n",
    "|Type|Code|\n",
    "|---|---|\n",
    "|Text|`str`|\n",
    "|Numeric|`int`, `float`, `complex`|\n",
    "|Sequence|`list`, `tuple`, `range`|\n",
    "|Mapping|`dict`|\n",
    "|Set|`set`, `frozenset`|\n",
    "|Boolean|`bool`|\n",
    "|Binary|`bytes`,`bytearray`, `memoryview`|\n",
    "|None|`NoneType`|\n",
    "\n",
    "\n",
    "Getting the data type with `type(variable)`."
   ]
  },
  {
   "cell_type": "code",
   "execution_count": null,
   "id": "892d1ed4",
   "metadata": {},
   "outputs": [],
   "source": [
    "# Text\n",
    "txt = \"I'm a string\" # String\n",
    "\n",
    "# Numeric\n",
    "nbrInt = 12 # Integer\n",
    "nbrFloat = 3.41 # Float\n",
    "nbrCom = 6 + 8j # Complex\n",
    "\n",
    "# Sequence\n",
    "lst = [1, 2, 3, 4] # List with integers\n",
    "tpl = (\"a\", \"b\", \"c\") # Tuple with strings\n",
    "rng = range(8) # Range: 0, 1, 2, 3, 4, 5, 6, 7\n",
    "\n",
    "# Mapping\n",
    "dct = {\n",
    "    \"a\": 1234,\n",
    "    \"b\": 5678,\n",
    "    \"c\": 9012\n",
    "} # Dictionaries with string keys and integer values (key: value)\n",
    "\n",
    "# Set\n",
    "st = {\n",
    "    \"Euler\",\n",
    "    \"Newton\",\n",
    "    \"Archimedes\"\n",
    "} # Set with string items\n",
    "\n",
    "############## Rest of data types ##############\n",
    "\n",
    "frznst = frozenset({\n",
    "    \"Pythagoras von Samos\",\n",
    "    \"Brook Taylor\",\n",
    "    \"Carl Friedrich Gauss\"\n",
    "    }) # Frozenset with a set of string items\n",
    "\n",
    "# Boolean\n",
    "bln = True # Boolean (True / False, 1 / 0, On / Off)\n",
    "\n",
    "# Binary\n",
    "bt = b\"ehemAushilfskassierer\" # Byte of a string\n",
    "bytrry = bytearray(3) # Bytearray: 3 times \\x00\n",
    "mmryvw = memoryview(bytes(8)) # Memoryview: byte object\n",
    "\n",
    "# None\n",
    "nn = None\n"
   ]
  },
  {
   "cell_type": "markdown",
   "id": "f9131d81",
   "metadata": {},
   "source": [
    "## Statistic Basics 1\n",
    "\n",
    "### Descriptive statistics\n",
    "\n",
    "Three different average values.\n",
    "\n",
    "<a href=\"https://en.wikipedia.org/wiki/Mean\" target=\"_blank\">\n",
    "  <img src=\"images/mode_median_mean.svg\" alt=\"Mode Median Mean\" style=\"max-width: 200px;\">\n",
    "</a>"
   ]
  },
  {
   "cell_type": "markdown",
   "id": "fda6de73",
   "metadata": {},
   "source": []
  },
  {
   "cell_type": "code",
   "execution_count": null,
   "id": "72c51547",
   "metadata": {},
   "outputs": [],
   "source": []
  },
  {
   "cell_type": "markdown",
   "id": "f49ad118",
   "metadata": {},
   "source": [
    "<div style=\"\n",
    "    background-color:rgb(44, 158, 224); \n",
    "    color: #333; \n",
    "    padding: 15px; \n",
    "    border-radius: 10px; \n",
    "    text-align: center; \n",
    "    font-size: 18px; \n",
    "    font-weight: bold;\n",
    "    box-shadow: 3px 3px 10px rgba(0, 0, 0, 0.1);\">\n",
    "    🔗  Connect with me:  \n",
    "    <br><br>\n",
    "    📌 <a href=\"https://www.linkedin.com/in/jan-eric-keller\" target=\"_blank\" style=\"color: #0077b5; text-decoration: none; font-weight: bold;\">LinkedIn</a>  \n",
    "    <br>\n",
    "    📊 <a href=\"https://www.kaggle.com/whatthedatahastotell\" target=\"_blank\" style=\"color: #20beff; text-decoration: none; font-weight: bold;\">Kaggle</a>  \n",
    "    <br>\n",
    "    🎥 <a href=\"https://www.youtube.com/@ehemAushilfskassierer\" target=\"_blank\" style=\"color: #ff0000; text-decoration: none; font-weight: bold;\">YouTube</a>  \n",
    "    <br>\n",
    "    📸 <a href=\"https://www.instagram.com/ehem.aushilfskassierer/\" target=\"_blank\" style=\"color: #e1306c; text-decoration: none; font-weight: bold;\">Instagram</a>  \n",
    "    <br>\n",
    "    🎵 <a href=\"https://www.tiktok.com/@ehem.aushilfskassierer\" target=\"_blank\" style=\"color: #000000; text-decoration: none; font-weight: bold;\">TikTok</a>  \n",
    "    <br>\n",
    "    💻 <a href=\"https://github.com/ehemAushilfskassierer\" target=\"_blank\" style=\"color: #333; text-decoration: none; font-weight: bold;\">GitHub</a>  \n",
    "    <br><br>\n",
    "    🚀 If you found this helpful, leave an <span style=\"color: #ff5b33;\">⭐ upvote</span>!  \n",
    "    <br>\n",
    "    💬 Let me know in the comments what you liked or what could be improved!  \n",
    "</div>\n"
   ]
  },
  {
   "cell_type": "markdown",
   "id": "2127b4b2",
   "metadata": {},
   "source": []
  }
 ],
 "metadata": {
  "kernelspec": {
   "display_name": "Python 3",
   "language": "python",
   "name": "python3"
  },
  "language_info": {
   "codemirror_mode": {
    "name": "ipython",
    "version": 3
   },
   "file_extension": ".py",
   "mimetype": "text/x-python",
   "name": "python",
   "nbconvert_exporter": "python",
   "pygments_lexer": "ipython3",
   "version": "3.13.2"
  }
 },
 "nbformat": 4,
 "nbformat_minor": 5
}
